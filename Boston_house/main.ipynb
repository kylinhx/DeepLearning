{
 "cells": [
  {
   "cell_type": "markdown",
   "metadata": {},
   "source": [
    "# 1.3 波士顿房价预测任务\n",
    "\n",
    "上一节我们初步认识了神经网络的基本概念（如神经元、多层连接、前向计算、计算图）和模型结构三要素（模型假设、评价函数和优化算法）。本节将以“波士顿房价预测”任务为例，向读者介绍使用Python语言和Numpy库来构建神经网络模型的思考过程和操作方法。\n",
    "\n",
    "波士顿房价预测是一个经典的机器学习任务，类似于程序员世界的“Hello World”。和大家对房价的普遍认知相同，波士顿地区的房价受诸多因素影响。该数据集统计了13种可能影响房价的因素和该类型房屋的均价，期望构建一个基于13个因素进行房价预测的模型，如 **图1** 所示。\n",
    "<br></br>\n",
    "<center><img src=\"https://ai-studio-static-online.cdn.bcebos.com/7a6bdaa3c11d41469d9301c09e1595074ee3acb37bf943959f7f9f28ef3bd251\" width=\"500\" hegiht=\"\" ></center>\n",
    "<center><br>图1：波士顿房价影响因素示意图</br></center>\n",
    "<br></br>\n",
    "\n",
    "对于预测问题，可以根据预测输出的类型是连续的实数值，还是离散的标签，区分为回归任务和分类任务。因为房价是一个连续值，所以房价预测显然是一个回归任务。下面我们尝试用最简单的线性回归模型解决这个问题，并用神经网络来实现这个模型。\n",
    "\n",
    "## 1.3.1 线性回归模型\n",
    "\n",
    "假设房价和各影响因素之间能够用线性关系来描述：\n",
    "\n",
    "$$y = {\\sum_{j=1}^Mx_j w_j} + b$$\n",
    "\n",
    "模型的求解即是通过数据拟合出每个$w_j$和$b$。其中，$w_j$和$b$分别表示该线性模型的权重和偏置。一维情况下，$w_j$ 和 $b$ 是直线的斜率和截距。\n",
    "\n",
    "线性回归模型使用均方误差作为（Mean Squared Error，MSE）损失函数（Loss），用以衡量预测房价和真实房价的差异，公式如下：\n",
    "\n",
    "$$MSE = \\frac{1}{N} \\sum_{i=1}^N(\\hat{Y_i} - {Y_i})^{2}$$\n",
    "\n",
    "------\n",
    "**思考：**\n",
    "\n",
    "为什么要以均方误差作为损失函数？即将模型在每个训练样本上的预测误差加和，来衡量整体样本的准确性。这是因为损失函数的设计不仅仅要考虑“合理性”（有物理意义），同样需要考虑“易解性”（易于求解），这个问题在后面的内容中会详细阐述。\n",
    "\n",
    "------\n",
    "\n",
    "## 1.3.2 线性回归模型的神经网络结构\n",
    "\n",
    "神经网络的标准结构中每个神经元由加权和与非线性变换构成，然后将多个神经元分层的摆放并连接形成神经网络。线性回归模型可以认为是神经网络模型的一种极简特例，是一个只有加权和、没有非线性变换的神经元（无需形成网络），如 **图2** 所示。\n",
    "<center><img src=\"https://ai-studio-static-online.cdn.bcebos.com/f9117a5a34d44b1eab85147e62b4e6295e485e48d79d4a03adaa14a447ffd230\" width=\"300\" hegiht=\"\" ></center>\n",
    "<center><br>图2：线性回归模型的神经网络结构</br></center>\n",
    "<br></br>\n"
   ]
  },
  {
   "cell_type": "markdown",
   "metadata": {},
   "source": [
    "## 1.3.3 基于线性回归实现波士顿房价预测任务\n",
    "\n",
    "深度学习不仅实现了模型的端到端学习，还推动了人工智能进入工业大生产阶段，产生了标准化、自动化和模块化的通用框架。不同场景的深度学习模型具备一定的通用性，五个步骤即可完成模型的构建和训练，如 **图3** 所示。\n",
    "<br></br>\n",
    "<center><img src=\"https://ai-studio-static-online.cdn.bcebos.com/99d253f2759e40c8a5ee76a3d8243efc7ad965e4a293427c9d4677b23655e935\" width=\"800\" hegiht=\"\" ></center>\n",
    "<center><br>图3：构建神经网络/深度学习模型的基本步骤</br></center>\n",
    "<br></br>\n",
    "\n",
    "正是由于深度学习的建模和训练的过程存在通用性，即在构建不同的模型时，只有模型三要素不同，其它步骤基本一致，才产生了深度学习框架来加速建模。"
   ]
  },
  {
   "cell_type": "markdown",
   "metadata": {},
   "source": [
    "### 1.3.3.1 数据处理\n",
    "\n",
    "数据处理包含五个部分：数据导入、数据形状变换、数据集划分、数据归一化处理和封装`load data`函数。数据预处理后，才能被模型调用。\n",
    "\n",
    "------\n",
    "**说明：**\n",
    "\n",
    "* 本教程中的代码都可以在AI Studio上直接运行，Print结果都是基于程序真实运行的结果。\n",
    "* 由于是真实案例，代码之间存在依赖关系，因此需要读者逐条、全部运行，否则会导致命令执行报错。\n",
    "\n",
    "------\n",
    "\n",
    "**（1）数据读取**\n",
    "\n",
    "通过如下代码读入数据，了解下波士顿房价的数据集结构，数据存放在本地目录下housing.data文件中。"
   ]
  },
  {
   "cell_type": "code",
   "execution_count": 1,
   "metadata": {
    "collapsed": false,
    "execution": {
     "iopub.execute_input": "2022-09-23T06:53:20.605786Z",
     "iopub.status.busy": "2022-09-23T06:53:20.605385Z",
     "iopub.status.idle": "2022-09-23T06:53:21.024069Z",
     "shell.execute_reply": "2022-09-23T06:53:21.023189Z",
     "shell.execute_reply.started": "2022-09-23T06:53:20.605762Z"
    },
    "jupyter": {
     "outputs_hidden": false
    },
    "scrolled": true
   },
   "outputs": [
    {
     "data": {
      "text/plain": [
       "array([6.320e-03, 1.800e+01, 2.310e+00, ..., 3.969e+02, 7.880e+00,\n",
       "       1.190e+01])"
      ]
     },
     "execution_count": 1,
     "metadata": {},
     "output_type": "execute_result"
    }
   ],
   "source": [
    "# 导入需要用到的package\n",
    "import numpy as np\n",
    "import json\n",
    "# 读入训练数据\n",
    "datafile = './work/housing.data'\n",
    "data = np.fromfile(datafile, sep=' ')\n",
    "data"
   ]
  },
  {
   "cell_type": "markdown",
   "metadata": {},
   "source": [
    "**（2）数据形状变换**\n",
    "\n",
    "由于读入的原始数据是1维的，所有数据都连在一起。因此需要我们将数据的形状进行变换，形成一个2维的矩阵，每行为一个数据样本（14个值），每个数据样本包含13个$x$（影响房价的特征）和一个$y$（该类型房屋的均价）。"
   ]
  },
  {
   "cell_type": "code",
   "execution_count": 2,
   "metadata": {
    "collapsed": false,
    "execution": {
     "iopub.execute_input": "2022-09-23T06:53:21.026422Z",
     "iopub.status.busy": "2022-09-23T06:53:21.025680Z",
     "iopub.status.idle": "2022-09-23T06:53:21.033909Z",
     "shell.execute_reply": "2022-09-23T06:53:21.032586Z",
     "shell.execute_reply.started": "2022-09-23T06:53:21.026390Z"
    },
    "jupyter": {
     "outputs_hidden": false
    },
    "scrolled": true
   },
   "outputs": [],
   "source": [
    "# 读入之后的数据被转化成1维array，其中array的第0-13项是第一条数据，第14-27项是第二条数据，以此类推.... \n",
    "# 这里对原始数据做reshape，变成N x 14的形式\n",
    "feature_names = [ 'CRIM', 'ZN', 'INDUS', 'CHAS', 'NOX', 'RM', 'AGE','DIS', \n",
    "                 'RAD', 'TAX', 'PTRATIO', 'B', 'LSTAT', 'MEDV' ]\n",
    "feature_num = len(feature_names)\n",
    "data = data.reshape([data.shape[0] // feature_num, feature_num])"
   ]
  },
  {
   "cell_type": "code",
   "execution_count": 3,
   "metadata": {
    "collapsed": false,
    "execution": {
     "iopub.execute_input": "2022-09-23T06:53:21.035176Z",
     "iopub.status.busy": "2022-09-23T06:53:21.034921Z",
     "iopub.status.idle": "2022-09-23T06:53:21.040729Z",
     "shell.execute_reply": "2022-09-23T06:53:21.039916Z",
     "shell.execute_reply.started": "2022-09-23T06:53:21.035143Z"
    },
    "jupyter": {
     "outputs_hidden": false
    },
    "scrolled": true
   },
   "outputs": [
    {
     "name": "stdout",
     "output_type": "stream",
     "text": [
      "(14,)\n",
      "[6.320e-03 1.800e+01 2.310e+00 0.000e+00 5.380e-01 6.575e+00 6.520e+01\n",
      " 4.090e+00 1.000e+00 2.960e+02 1.530e+01 3.969e+02 4.980e+00 2.400e+01]\n"
     ]
    }
   ],
   "source": [
    "# 查看数据\n",
    "x = data[0]\n",
    "print(x.shape)\n",
    "print(x)"
   ]
  },
  {
   "cell_type": "markdown",
   "metadata": {},
   "source": [
    "**（3）数据集划分**\n",
    "\n",
    "将数据集划分成训练集和测试集，其中训练集用于确定模型的参数，测试集用于评判模型的效果。为什么要对数据集进行拆分，而不能直接应用于模型训练呢？这与学生时代的授课和考试关系比较类似，如 **图4** 所示。\n",
    "\n",
    "<center><img src=\"https://ai-studio-static-online.cdn.bcebos.com/e6582546ee8c4a089610621db81e278cb20856fff81d496a807e7d570950da05\" width=\"600\" hegiht=\"\" ></center>\n",
    "<center><br>图4：训练集和测试集拆分的意义</br></center>\n",
    "<br></br>\n",
    "\n",
    "上学时总有一些自作聪明的同学，平时不认真学习，考试前临阵抱佛脚，将习题死记硬背下来，但是成绩往往并不好。因为学校期望学生掌握的是知识，而不仅仅是习题本身。另出新的考题，才能鼓励学生努力去掌握习题背后的原理。同样我们期望模型学习的是任务的本质规律，而不是训练数据本身，模型训练未使用的数据，才能更真实的评估模型的效果。\n",
    "\n",
    "在本案例中，我们将80%的数据用作训练集，20%用作测试集，实现代码如下。通过打印训练集的形状，可以发现共有404个样本，每个样本含有13个特征和1个预测值。"
   ]
  },
  {
   "cell_type": "code",
   "execution_count": 4,
   "metadata": {
    "collapsed": false,
    "execution": {
     "iopub.execute_input": "2022-09-23T06:53:21.043194Z",
     "iopub.status.busy": "2022-09-23T06:53:21.042812Z",
     "iopub.status.idle": "2022-09-23T06:53:21.048333Z",
     "shell.execute_reply": "2022-09-23T06:53:21.047581Z",
     "shell.execute_reply.started": "2022-09-23T06:53:21.043168Z"
    },
    "jupyter": {
     "outputs_hidden": false
    },
    "scrolled": true
   },
   "outputs": [
    {
     "data": {
      "text/plain": [
       "(404, 14)"
      ]
     },
     "execution_count": 4,
     "metadata": {},
     "output_type": "execute_result"
    }
   ],
   "source": [
    "ratio = 0.8\n",
    "offset = int(data.shape[0] * ratio)\n",
    "training_data = data[:offset]\n",
    "training_data.shape"
   ]
  },
  {
   "cell_type": "markdown",
   "metadata": {},
   "source": [
    "**（4）数据归一化处理**\n",
    "\n",
    "对每个特征进行归一化处理，使得每个特征的取值缩放到0~1之间。这样做有两个好处：一是模型训练更高效；二是特征前的权重大小可以代表该变量对预测结果的贡献度（因为每个特征值本身的范围相同）。"
   ]
  },
  {
   "cell_type": "code",
   "execution_count": 5,
   "metadata": {
    "collapsed": false,
    "execution": {
     "iopub.execute_input": "2022-09-23T06:53:21.049984Z",
     "iopub.status.busy": "2022-09-23T06:53:21.049649Z",
     "iopub.status.idle": "2022-09-23T06:53:21.054892Z",
     "shell.execute_reply": "2022-09-23T06:53:21.054059Z",
     "shell.execute_reply.started": "2022-09-23T06:53:21.049962Z"
    },
    "jupyter": {
     "outputs_hidden": false
    },
    "scrolled": true
   },
   "outputs": [],
   "source": [
    "# 计算train数据集的最大值，最小值\n",
    "maximums, minimums = \\\n",
    "                     training_data.max(axis=0), \\\n",
    "                     training_data.min(axis=0), \n",
    "# 对数据进行归一化处理\n",
    "for i in range(feature_num):\n",
    "    data[:, i] = (data[:, i] - minimums[i]) / (maximums[i] - minimums[i])"
   ]
  },
  {
   "cell_type": "markdown",
   "metadata": {},
   "source": [
    "**（5）封装成load data函数**\n",
    "\n",
    "将上述几个数据处理操作封装成`load data`函数，以便下一步模型的调用，实现方法如下。"
   ]
  },
  {
   "cell_type": "code",
   "execution_count": 6,
   "metadata": {
    "collapsed": false,
    "execution": {
     "iopub.execute_input": "2022-09-23T06:53:21.056582Z",
     "iopub.status.busy": "2022-09-23T06:53:21.055895Z",
     "iopub.status.idle": "2022-09-23T06:53:21.063270Z",
     "shell.execute_reply": "2022-09-23T06:53:21.062447Z",
     "shell.execute_reply.started": "2022-09-23T06:53:21.056558Z"
    },
    "jupyter": {
     "outputs_hidden": false
    },
    "scrolled": true
   },
   "outputs": [],
   "source": [
    "def load_data():\n",
    "    # 从文件导入数据\n",
    "    datafile = './work/housing.data'\n",
    "    data = np.fromfile(datafile, sep=' ')\n",
    "\n",
    "    # 每条数据包括14项，其中前面13项是影响因素，第14项是相应的房屋价格中位数\n",
    "    feature_names = [ 'CRIM', 'ZN', 'INDUS', 'CHAS', 'NOX', 'RM', 'AGE', \\\n",
    "                      'DIS', 'RAD', 'TAX', 'PTRATIO', 'B', 'LSTAT', 'MEDV' ]\n",
    "    feature_num = len(feature_names)\n",
    "\n",
    "    # 将原始数据进行Reshape，变成[N, 14]这样的形状\n",
    "    data = data.reshape([data.shape[0] // feature_num, feature_num])\n",
    "\n",
    "    # 将原数据集拆分成训练集和测试集\n",
    "    # 这里使用80%的数据做训练，20%的数据做测试\n",
    "    # 测试集和训练集必须是没有交集的\n",
    "    ratio = 0.8\n",
    "    offset = int(data.shape[0] * ratio)\n",
    "    training_data = data[:offset]\n",
    "\n",
    "    # 计算训练集的最大值，最小值\n",
    "    maximums, minimums = training_data.max(axis=0), \\\n",
    "                            training_data.min(axis=0)\n",
    "\n",
    "    # 对数据进行归一化处理\n",
    "    for i in range(feature_num):\n",
    "        data[:, i] = (data[:, i] - minimums[i]) / (maximums[i] - minimums[i])\n",
    "\n",
    "    # 训练集和测试集的划分比例\n",
    "    training_data = data[:offset]\n",
    "    test_data = data[offset:]\n",
    "    return training_data, test_data\n",
    "\n",
    "    "
   ]
  },
  {
   "cell_type": "code",
   "execution_count": 7,
   "metadata": {
    "collapsed": false,
    "execution": {
     "iopub.execute_input": "2022-09-23T06:53:21.064581Z",
     "iopub.status.busy": "2022-09-23T06:53:21.064254Z",
     "iopub.status.idle": "2022-09-23T06:53:21.072437Z",
     "shell.execute_reply": "2022-09-23T06:53:21.071511Z",
     "shell.execute_reply.started": "2022-09-23T06:53:21.064560Z"
    },
    "jupyter": {
     "outputs_hidden": false
    },
    "scrolled": true
   },
   "outputs": [],
   "source": [
    "# 获取数据\n",
    "training_data, test_data = load_data()\n",
    "x = training_data[:, :-1]\n",
    "y = training_data[:, -1:]"
   ]
  },
  {
   "cell_type": "code",
   "execution_count": 8,
   "metadata": {
    "collapsed": false,
    "execution": {
     "iopub.execute_input": "2022-09-23T06:53:21.073878Z",
     "iopub.status.busy": "2022-09-23T06:53:21.073551Z",
     "iopub.status.idle": "2022-09-23T06:53:21.079025Z",
     "shell.execute_reply": "2022-09-23T06:53:21.077967Z",
     "shell.execute_reply.started": "2022-09-23T06:53:21.073855Z"
    },
    "jupyter": {
     "outputs_hidden": false
    },
    "scrolled": true
   },
   "outputs": [
    {
     "name": "stdout",
     "output_type": "stream",
     "text": [
      "[0.         0.18       0.07344184 0.         0.31481481 0.57750527\n",
      " 0.64160659 0.26920314 0.         0.22755741 0.28723404 1.\n",
      " 0.08967991]\n",
      "[0.42222222]\n"
     ]
    }
   ],
   "source": [
    "# 查看数据\n",
    "print(x[0])\n",
    "print(y[0])"
   ]
  },
  {
   "cell_type": "markdown",
   "metadata": {},
   "source": [
    "### 1.3.3.2 模型设计\n",
    "\n",
    "模型设计是深度学习模型关键要素之一，也称为网络结构设计，相当于模型的假设空间，即实现模型“前向计算”（从输入到输出）的过程。\n",
    "\n",
    "如果将输入特征和输出预测值均以向量表示，输入特征$x$有13个向量，$y$有1个向量，那么参数权重的形状是$13\\times1$。假设我们以如下任意数字赋值参数做初始化：\n",
    "$$w=[0.1, 0.2, 0.3, 0.4, 0.5, 0.6, 0.7, 0.8, -0.1, -0.2, -0.3, -0.4, 0.0]$$"
   ]
  },
  {
   "cell_type": "code",
   "execution_count": 9,
   "metadata": {
    "collapsed": false,
    "execution": {
     "iopub.execute_input": "2022-09-23T06:53:21.080619Z",
     "iopub.status.busy": "2022-09-23T06:53:21.080248Z",
     "iopub.status.idle": "2022-09-23T06:53:21.084678Z",
     "shell.execute_reply": "2022-09-23T06:53:21.083752Z",
     "shell.execute_reply.started": "2022-09-23T06:53:21.080594Z"
    },
    "jupyter": {
     "outputs_hidden": false
    },
    "scrolled": true
   },
   "outputs": [],
   "source": [
    "w = [0.1, 0.2, 0.3, 0.4, 0.5, 0.6, 0.7, 0.8, -0.1, -0.2, -0.3, -0.4, 0.0]\n",
    "w = np.array(w).reshape([13, 1])"
   ]
  },
  {
   "cell_type": "markdown",
   "metadata": {},
   "source": [
    "取出第1条样本数据，观察样本的特征向量与参数向量相乘的结果。"
   ]
  },
  {
   "cell_type": "code",
   "execution_count": 10,
   "metadata": {
    "collapsed": false,
    "execution": {
     "iopub.execute_input": "2022-09-23T06:53:21.088059Z",
     "iopub.status.busy": "2022-09-23T06:53:21.087740Z",
     "iopub.status.idle": "2022-09-23T06:53:21.092614Z",
     "shell.execute_reply": "2022-09-23T06:53:21.091834Z",
     "shell.execute_reply.started": "2022-09-23T06:53:21.088037Z"
    },
    "jupyter": {
     "outputs_hidden": false
    },
    "scrolled": true
   },
   "outputs": [
    {
     "name": "stdout",
     "output_type": "stream",
     "text": [
      "[0.69474855]\n"
     ]
    }
   ],
   "source": [
    "x1=x[0]\n",
    "t = np.dot(x1, w)\n",
    "print(t)"
   ]
  },
  {
   "cell_type": "markdown",
   "metadata": {},
   "source": [
    "完整的线性回归公式，还需要初始化偏移量$b$，同样随意赋初值-0.2。那么，线性回归模型的完整输出是$z=t+b$，这个从特征和参数计算输出值的过程称为“前向计算”。"
   ]
  },
  {
   "cell_type": "code",
   "execution_count": 11,
   "metadata": {
    "collapsed": false,
    "execution": {
     "iopub.execute_input": "2022-09-23T06:53:21.094001Z",
     "iopub.status.busy": "2022-09-23T06:53:21.093762Z",
     "iopub.status.idle": "2022-09-23T06:53:21.098635Z",
     "shell.execute_reply": "2022-09-23T06:53:21.097752Z",
     "shell.execute_reply.started": "2022-09-23T06:53:21.093981Z"
    },
    "jupyter": {
     "outputs_hidden": false
    },
    "scrolled": true
   },
   "outputs": [
    {
     "name": "stdout",
     "output_type": "stream",
     "text": [
      "[0.49474855]\n"
     ]
    }
   ],
   "source": [
    "b = -0.2\n",
    "z = t + b\n",
    "print(z)"
   ]
  },
  {
   "cell_type": "markdown",
   "metadata": {},
   "source": [
    "将上述计算预测输出的过程以“类和对象”的方式来描述，类成员变量有参数$w$和$b$。通过写一个`forward`函数（代表“前向计算”）完成上述从特征和参数到输出预测值的计算过程，代码实现如下。"
   ]
  },
  {
   "cell_type": "code",
   "execution_count": 12,
   "metadata": {
    "collapsed": false,
    "execution": {
     "iopub.execute_input": "2022-09-23T06:53:21.100083Z",
     "iopub.status.busy": "2022-09-23T06:53:21.099811Z",
     "iopub.status.idle": "2022-09-23T06:53:21.104982Z",
     "shell.execute_reply": "2022-09-23T06:53:21.104202Z",
     "shell.execute_reply.started": "2022-09-23T06:53:21.100053Z"
    },
    "jupyter": {
     "outputs_hidden": false
    },
    "scrolled": true
   },
   "outputs": [],
   "source": [
    "class Network(object):\n",
    "    def __init__(self, num_of_weights):\n",
    "        # 随机产生w的初始值\n",
    "        # 为了保持程序每次运行结果的一致性，\n",
    "        # 此处设置固定的随机数种子\n",
    "        np.random.seed(0)\n",
    "        self.w = np.random.randn(num_of_weights, 1)\n",
    "        self.b = 0.\n",
    "        \n",
    "    def forward(self, x):\n",
    "        z = np.dot(x, self.w) + self.b\n",
    "        return z"
   ]
  },
  {
   "cell_type": "markdown",
   "metadata": {},
   "source": [
    "基于Network类的定义，模型的计算过程如下所示。"
   ]
  },
  {
   "cell_type": "code",
   "execution_count": 13,
   "metadata": {
    "collapsed": false,
    "execution": {
     "iopub.execute_input": "2022-09-23T06:53:21.107136Z",
     "iopub.status.busy": "2022-09-23T06:53:21.106631Z",
     "iopub.status.idle": "2022-09-23T06:53:21.113039Z",
     "shell.execute_reply": "2022-09-23T06:53:21.112013Z",
     "shell.execute_reply.started": "2022-09-23T06:53:21.107102Z"
    },
    "jupyter": {
     "outputs_hidden": false
    },
    "scrolled": true
   },
   "outputs": [
    {
     "name": "stdout",
     "output_type": "stream",
     "text": [
      "[2.39362982]\n"
     ]
    }
   ],
   "source": [
    "net = Network(13)\n",
    "x1 = x[0]\n",
    "y1 = y[0]\n",
    "z = net.forward(x1)\n",
    "print(z)"
   ]
  },
  {
   "cell_type": "markdown",
   "metadata": {},
   "source": [
    "### 1.3.3.3 训练配置\n",
    "\n",
    "模型设计完成后，需要通过训练配置寻找模型的最优值，即通过损失函数来衡量模型的好坏。训练配置也是深度学习模型关键要素之一。\n",
    "\n",
    "通过模型计算$x_1$表示的影响因素所对应的房价应该是$z$, 但实际数据告诉我们房价是$y$。这时我们需要有某种指标来衡量预测值$z$跟真实值$y$之间的差距。对于回归问题，最常采用的衡量方法是使用均方误差作为评价模型好坏的指标，公式为\n",
    "\n",
    "$$Loss = (y - z)^2$$\n",
    "\n",
    "上式中的$Loss$通常也被称作损失函数，它是衡量模型好坏的指标。在回归问题中常用均方误差作为损失函数，而在分类问题中常用采用交叉熵（Cross-Entropy）作为损失函数，在后续的章节中会更详细的介绍。对其中任意一个样本计算损失函数值的代码实现如下："
   ]
  },
  {
   "cell_type": "code",
   "execution_count": 14,
   "metadata": {
    "collapsed": false,
    "execution": {
     "iopub.execute_input": "2022-09-23T06:53:21.114678Z",
     "iopub.status.busy": "2022-09-23T06:53:21.114319Z",
     "iopub.status.idle": "2022-09-23T06:53:21.120285Z",
     "shell.execute_reply": "2022-09-23T06:53:21.119420Z",
     "shell.execute_reply.started": "2022-09-23T06:53:21.114646Z"
    },
    "jupyter": {
     "outputs_hidden": false
    },
    "scrolled": true
   },
   "outputs": [
    {
     "name": "stdout",
     "output_type": "stream",
     "text": [
      "[3.88644793]\n"
     ]
    }
   ],
   "source": [
    "Loss = (y1 - z)*(y1 - z)\n",
    "print(Loss)"
   ]
  },
  {
   "cell_type": "markdown",
   "metadata": {},
   "source": [
    "因为计算损失函数时需要把每个样本的损失函数值都考虑到，所以我们需要对单个样本的损失函数进行求和，并除以样本总数$N$。公式为\n",
    "\n",
    "$$Loss= \\frac{1}{N}\\sum_{i=1}^N{(y_i - z_i)^2}$$\n",
    "\n",
    "在Network类下面添加损失函数的代码实现如下："
   ]
  },
  {
   "cell_type": "code",
   "execution_count": 15,
   "metadata": {
    "collapsed": false,
    "execution": {
     "iopub.execute_input": "2022-09-23T06:53:21.121898Z",
     "iopub.status.busy": "2022-09-23T06:53:21.121553Z",
     "iopub.status.idle": "2022-09-23T06:53:21.127266Z",
     "shell.execute_reply": "2022-09-23T06:53:21.126536Z",
     "shell.execute_reply.started": "2022-09-23T06:53:21.121875Z"
    },
    "jupyter": {
     "outputs_hidden": false
    },
    "scrolled": true
   },
   "outputs": [],
   "source": [
    "class Network(object):\n",
    "    def __init__(self, num_of_weights):\n",
    "        # 随机产生w的初始值\n",
    "        # 为了保持程序每次运行结果的一致性，此处设置固定的随机数种子\n",
    "        np.random.seed(0)\n",
    "        self.w = np.random.randn(num_of_weights, 1)\n",
    "        self.b = 0.\n",
    "        \n",
    "    def forward(self, x):\n",
    "        z = np.dot(x, self.w) + self.b\n",
    "        return z\n",
    "    \n",
    "    def loss(self, z, y):\n",
    "        error = z - y\n",
    "        cost = error * error\n",
    "        cost = np.mean(cost)\n",
    "        return cost\n"
   ]
  },
  {
   "cell_type": "markdown",
   "metadata": {},
   "source": [
    "使用定义的Network类，可以方便的计算预测值和损失函数。需要注意的是，类中的变量$\\mathbf{x}$, $w$，$b$, $z$, $error$等均是向量。以变量$\\mathbf{x}$为例，共有两个维度，一个代表特征数量（值为13），一个代表样本数量，代码如下所示。"
   ]
  },
  {
   "cell_type": "code",
   "execution_count": 16,
   "metadata": {
    "collapsed": false,
    "execution": {
     "iopub.execute_input": "2022-09-23T06:53:21.128765Z",
     "iopub.status.busy": "2022-09-23T06:53:21.128306Z",
     "iopub.status.idle": "2022-09-23T06:53:21.135448Z",
     "shell.execute_reply": "2022-09-23T06:53:21.134476Z",
     "shell.execute_reply.started": "2022-09-23T06:53:21.128741Z"
    },
    "jupyter": {
     "outputs_hidden": false
    },
    "scrolled": true
   },
   "outputs": [
    {
     "name": "stdout",
     "output_type": "stream",
     "text": [
      "predict:  [[2.39362982]\n",
      " [2.46752393]\n",
      " [2.02483479]]\n",
      "loss: 3.384496992612791\n"
     ]
    }
   ],
   "source": [
    "net = Network(13)\n",
    "# 此处可以一次性计算多个样本的预测值和损失函数\n",
    "x1 = x[0:3]\n",
    "y1 = y[0:3]\n",
    "z = net.forward(x1)\n",
    "print('predict: ', z)\n",
    "loss = net.loss(z, y1)\n",
    "print('loss:', loss)"
   ]
  },
  {
   "cell_type": "markdown",
   "metadata": {},
   "source": [
    "### 1.3.3.4 训练过程\n",
    "\n",
    "上述计算过程描述了如何构建神经网络，通过神经网络完成预测值和损失函数的计算。接下来介绍如何求解参数$w$和$b$的数值，这个过程也称为模型训练过程。训练过程是深度学习模型的关键要素之一，其目标是让定义的损失函数尽可能的小，也就是说找到一个参数解$w$和$b$，使得损失函数取得极小值。\n",
    "\n",
    "我们先做一个小测试：如 **图5** 所示，基于微积分知识，求一条曲线在某个点的斜率等于函数在该点的导数值。那么大家思考下，当处于曲线的极值点时，该点的斜率是多少？\n",
    "\n",
    "<center><img src=\"https://ai-studio-static-online.cdn.bcebos.com/94f0437e6a454a0682f3b831c96a62bdaf40898af25145ec9b5b50bc80391f5c\" width=\"300\" hegiht=\"\" ></center>\n",
    "<center><br>图5：曲线斜率等于导数值</br></center>\n",
    "<br></br>\n",
    "\n",
    "这个问题并不难回答，处于曲线极值点时的斜率为0，即函数在极值点的导数为0。那么，让损失函数取极小值的$w$和$b$应该是下述方程组的解：\n",
    "$$\\frac{\\partial{L}}{\\partial{w}}=0$$\n",
    "$$\\frac{\\partial{L}}{\\partial{b}}=0$$\n",
    "\n",
    "将样本数据$(x, y)$带入上面的方程组中即可求解出$w$和$b$的值，但是这种方法只对线性回归这样简单的任务有效。如果模型中含有非线性变换，或者损失函数不是均方差这种简单的形式，则很难通过上式求解。为了解决这个问题，下面我们将引入更加普适的数值求解方法：梯度下降法。\n",
    "\n",
    "**（1）梯度下降法**\n",
    "\n",
    "在现实中存在大量的函数正向求解容易，但反向求解较难，被称为单向函数，这种函数在密码学中有大量的应用。密码锁的特点是可以迅速判断一个密钥是否是正确的(已知$x$，求$y$很容易)，但是即使获取到密码锁系统，无法破解出正确的密钥是什么（已知$y$，求$x$很难）。神经网络模型的损失函数就是这样的单向函数，反向求解并不容易。\n",
    "\n",
    "这种情况特别类似于一位想从山峰走到坡谷的盲人，他看不见坡谷在哪（无法逆向求解出$Loss$导数为0时的参数值），但可以伸脚探索身边的坡度（当前点的导数值，也称为梯度）。那么，求解Loss函数最小值可以这样实现：从当前的参数取值，一步步的按照下坡的方向下降，直到走到最低点。这种方法笔者称它为“盲人下坡法”。哦不，有个更正式的说法“梯度下降法（Gradient Descent，GD）”。\n",
    "\n",
    "训练的关键是找到一组$(w, b)$，使得损失函数$L$取极小值。我们先看一下损失函数$L$只随两个参数$w_5$、$w_9$变化时的简单情形，启发下寻解的思路。\n",
    "$$L=L(w_5, w_9)$$\n",
    "这里我们将$w_0, w_1, ..., w_{12}$中除$w_5, w_9$之外的参数和$b$都固定下来，可以用图画出$L(w_5, w_9)$的形式。"
   ]
  },
  {
   "cell_type": "code",
   "execution_count": 17,
   "metadata": {
    "collapsed": false,
    "execution": {
     "iopub.execute_input": "2022-09-23T06:53:21.136813Z",
     "iopub.status.busy": "2022-09-23T06:53:21.136539Z",
     "iopub.status.idle": "2022-09-23T06:53:28.519514Z",
     "shell.execute_reply": "2022-09-23T06:53:28.518618Z",
     "shell.execute_reply.started": "2022-09-23T06:53:21.136789Z"
    },
    "jupyter": {
     "outputs_hidden": false
    },
    "scrolled": true
   },
   "outputs": [
    {
     "data": {
      "text/plain": [
       "<Figure size 640x480 with 1 Axes>"
      ]
     },
     "metadata": {},
     "output_type": "display_data"
    }
   ],
   "source": [
    "net = Network(13)\n",
    "losses = []\n",
    "#只画出参数w5和w9在区间[-160, 160]的曲线部分，以及包含损失函数的极值\n",
    "w5 = np.arange(-160.0, 160.0, 1.0)\n",
    "w9 = np.arange(-160.0, 160.0, 1.0)\n",
    "losses = np.zeros([len(w5), len(w9)])\n",
    "\n",
    "#计算设定区域内每个参数取值所对应的Loss\n",
    "for i in range(len(w5)):\n",
    "    for j in range(len(w9)):\n",
    "        net.w[5] = w5[i]\n",
    "        net.w[9] = w9[j]\n",
    "        z = net.forward(x)\n",
    "        loss = net.loss(z, y)\n",
    "        losses[i, j] = loss\n",
    "\n",
    "#使用matplotlib将两个变量和对应的Loss作3D图\n",
    "import matplotlib.pyplot as plt\n",
    "from mpl_toolkits.mplot3d import Axes3D\n",
    "fig = plt.figure()\n",
    "ax = Axes3D(fig)\n",
    "\n",
    "w5, w9 = np.meshgrid(w5, w9)\n",
    "\n",
    "ax.plot_surface(w5, w9, losses, rstride=1, cstride=1, cmap='rainbow')\n",
    "plt.show()"
   ]
  },
  {
   "cell_type": "markdown",
   "metadata": {},
   "source": [
    "对于这种简单情形，我们利用上面的程序，可以在三维空间中画出损失函数随参数变化的曲面图。从图中可以看出有些区域的函数值明显比周围的点小。\n",
    "\n",
    "需要说明的是：为什么这里我们选择$w_5$和$w_9$来画图？这是因为选择这两个参数的时候，可比较直观的从损失函数的曲面图上发现极值点的存在。其他参数组合，从图形上观测损失函数的极值点不够直观。\n",
    "\n",
    "观察上述曲线呈现出“圆滑”的坡度，这正是我们选择以均方误差作为损失函数的原因之一。**图6** 呈现了只有一个参数维度时，均方误差和绝对值误差（只将每个样本的误差累加，不做平方处理）的损失函数曲线图。\n",
    "\n",
    "<center><img src=\"https://ai-studio-static-online.cdn.bcebos.com/99487dca6520441db5073d1c154b5d2fb1174b5cf4d946c29f9d80a209bc2687\" width=\"700\" hegiht=\"40\" ></center>\n",
    "<center><br>图6：均方误差和绝对值误差损失函数曲线图</br></center>\n",
    "<br></br>\n",
    "\n",
    "由此可见，均方误差表现的“圆滑”的坡度有两个好处：\n",
    "\n",
    "* 曲线的最低点是可导的。\n",
    "* 越接近最低点，曲线的坡度逐渐放缓，有助于通过当前的梯度来判断接近最低点的程度（是否逐渐减少步长，以免错过最低点）。\n",
    "\n",
    "而绝对值误差是不具备这两个特性的，这也是损失函数的设计不仅仅要考虑“合理性”，还要追求“易解性”的原因。\n",
    "\n",
    "现在我们要找出一组$[w_5, w_9]$的值，使得损失函数最小，实现梯度下降法的方案如下：\n",
    "\n",
    "- 步骤1：随机的选一组初始值，例如：$[w_5, w_9] = [-100.0, -100.0]$\n",
    "- 步骤2：选取下一个点$[w_5^{'} , w_9^{'}]$，使得$L(w_5^{'} , w_9^{'}) < L(w_5, w_9)$\n",
    "- 步骤3：重复步骤2，直到损失函数几乎不再下降。\n",
    "\n",
    "如何选择$[w_5^{'} , w_9^{'}]$是至关重要的，第一要保证$L$是下降的，第二要使得下降的趋势尽可能的快。微积分的基础知识告诉我们，沿着梯度的反方向，是函数值下降最快的方向，如 **图7** 所示。简单理解，函数在某一个点的梯度方向是曲线斜率最大的方向，但梯度方向是向上的，所以下降最快的是梯度的反方向。\n",
    "<center><img src=\"https://ai-studio-static-online.cdn.bcebos.com/5f8322f6172542dab0f78684b70efe45d819895332af4cabb7c536217ab0bb26\" width=\"400\" hegiht=\"40\" ></center>\n",
    "<center><br>图7：梯度下降方向示意图</br></center>\n",
    "<br></br>\n"
   ]
  },
  {
   "cell_type": "markdown",
   "metadata": {},
   "source": [
    "**（2）计算梯度**\n",
    "\n",
    "上面我们讲过了损失函数的计算方法，这里稍微改写，为了使梯度计算更加简洁，引入因子$\\frac{1}{2}$，定义损失函数如下：\n",
    "\n",
    "$$L= \\frac{1}{2N}\\sum_{i=1}^N{(y_i - z_i)^2}$$\n",
    "\n",
    "其中$z_i$是网络对第$i$个样本的预测值：\n",
    "\n",
    "$$z_i = \\sum_{j=0}^{12}{x_i^{j}\\cdot w_j} + b$$\n",
    "\n",
    "梯度的定义：\n",
    "\n",
    "$$𝑔𝑟𝑎𝑑𝑖𝑒𝑛𝑡 = (\\frac{\\partial{L}}{\\partial{w_0}},\\frac{\\partial{L}}{\\partial{w_1}}, ... ,\\frac{\\partial{L}}{\\partial{w_{12}}} ,\\frac{\\partial{L}}{\\partial{b}})$$\n",
    "\n",
    "可以计算出$L$对$w$和$b$的偏导数：\n",
    "\n",
    "$$\\frac{\\partial{L}}{\\partial{w_j}} = \\frac{1}{N}\\sum_{i=1}^N{(z_i - y_i)\\frac{\\partial{z_i}}{\\partial{w_j}}} = \\frac{1}{N}\\sum_{i=1}^N{(z_i - y_i)x_i^{j}}$$\n",
    "\n",
    "$$\\frac{\\partial{L}}{\\partial{b}} = \\frac{1}{N}\\sum_{i=1}^N{(z_i - y_i)\\frac{\\partial{z_i}}{\\partial{b}}} = \\frac{1}{N}\\sum_{i=1}^N{(z_i - y_i)}$$\n",
    "\n",
    "从导数的计算过程可以看出，因子$\\frac{1}{2}$被消掉了，这是因为二次函数求导的时候会产生因子$2$，这也是我们将损失函数改写的原因。\n",
    "\n",
    "下面我们考虑只有一个样本的情况下，计算梯度：\n",
    "\n",
    "$$L= \\frac{1}{2}{(y_i - z_i)^2}$$\n",
    "\n",
    "$$z_1 = {x_1^{0}\\cdot w_0} + {x_1^{1}\\cdot w_1} + ...  + {x_1^{12}\\cdot w_{12}} + b$$\n",
    "\n",
    "可以计算出：\n",
    "\n",
    "$$L= \\frac{1}{2}{({x_1^{0}\\cdot w_0} + {x_1^{1}\\cdot w_1} + ...  + {x_1^{12}\\cdot w_{12}} + b - y_1)^2}$$\n",
    "\n",
    "可以计算出$L$对$w$和$b$的偏导数：\n",
    "\n",
    "$$\\frac{\\partial{L}}{\\partial{w_0}} = ({x_1^{0}\\cdot w_0} + {x_1^{1}\\cdot w_1} + ...  + {x_1^{12}\\cdot w_12} + b - y_1)\\cdot x_1^{0}=({z_1} - {y_1})\\cdot x_1^{0}$$\n",
    "\n",
    "$$\\frac{\\partial{L}}{\\partial{b}} = ({x_1^{0}\\cdot w_0} + {x_1^{1}\\cdot w_1} + ...  + {x_1^{12}\\cdot w_{12}} + b - y_1)\\cdot 1 = ({z_1} - {y_1})$$"
   ]
  },
  {
   "cell_type": "markdown",
   "metadata": {},
   "source": [
    "\n",
    "\n",
    "可以通过具体的程序查看每个变量的数据和维度。"
   ]
  },
  {
   "cell_type": "code",
   "execution_count": 18,
   "metadata": {
    "collapsed": false,
    "execution": {
     "iopub.execute_input": "2022-09-23T06:53:28.521331Z",
     "iopub.status.busy": "2022-09-23T06:53:28.520805Z",
     "iopub.status.idle": "2022-09-23T06:53:28.528216Z",
     "shell.execute_reply": "2022-09-23T06:53:28.527368Z",
     "shell.execute_reply.started": "2022-09-23T06:53:28.521304Z"
    },
    "jupyter": {
     "outputs_hidden": false
    },
    "scrolled": true
   },
   "outputs": [
    {
     "name": "stdout",
     "output_type": "stream",
     "text": [
      "x1 [0.         0.18       0.07344184 0.         0.31481481 0.57750527\n",
      " 0.64160659 0.26920314 0.         0.22755741 0.28723404 1.\n",
      " 0.08967991], shape (13,)\n",
      "y1 [0.42222222], shape (1,)\n",
      "z1 [130.86954441], shape (1,)\n"
     ]
    }
   ],
   "source": [
    "x1 = x[0]\n",
    "y1 = y[0]\n",
    "z1 = net.forward(x1)\n",
    "print('x1 {}, shape {}'.format(x1, x1.shape))\n",
    "print('y1 {}, shape {}'.format(y1, y1.shape))\n",
    "print('z1 {}, shape {}'.format(z1, z1.shape))"
   ]
  },
  {
   "cell_type": "markdown",
   "metadata": {},
   "source": [
    "按上面的公式，当只有一个样本时，可以计算某个$w_j$，比如$w_0$的梯度。"
   ]
  },
  {
   "cell_type": "code",
   "execution_count": 19,
   "metadata": {
    "collapsed": false,
    "execution": {
     "iopub.execute_input": "2022-09-23T06:53:28.529718Z",
     "iopub.status.busy": "2022-09-23T06:53:28.529324Z",
     "iopub.status.idle": "2022-09-23T06:53:28.534458Z",
     "shell.execute_reply": "2022-09-23T06:53:28.533665Z",
     "shell.execute_reply.started": "2022-09-23T06:53:28.529680Z"
    },
    "jupyter": {
     "outputs_hidden": false
    },
    "scrolled": true
   },
   "outputs": [
    {
     "name": "stdout",
     "output_type": "stream",
     "text": [
      "gradient_w0 [0.]\n"
     ]
    }
   ],
   "source": [
    "gradient_w0 = (z1 - y1) * x1[0]\n",
    "print('gradient_w0 {}'.format(gradient_w0))"
   ]
  },
  {
   "cell_type": "markdown",
   "metadata": {},
   "source": [
    "同样我们可以计算$w_1$的梯度。"
   ]
  },
  {
   "cell_type": "code",
   "execution_count": 20,
   "metadata": {
    "collapsed": false,
    "execution": {
     "iopub.execute_input": "2022-09-23T06:53:28.536052Z",
     "iopub.status.busy": "2022-09-23T06:53:28.535536Z",
     "iopub.status.idle": "2022-09-23T06:53:28.540875Z",
     "shell.execute_reply": "2022-09-23T06:53:28.539967Z",
     "shell.execute_reply.started": "2022-09-23T06:53:28.536023Z"
    },
    "jupyter": {
     "outputs_hidden": false
    },
    "scrolled": true
   },
   "outputs": [
    {
     "name": "stdout",
     "output_type": "stream",
     "text": [
      "gradient_w1 [23.48051799]\n"
     ]
    }
   ],
   "source": [
    "gradient_w1 = (z1 - y1) * x1[1]\n",
    "print('gradient_w1 {}'.format(gradient_w1))"
   ]
  },
  {
   "cell_type": "markdown",
   "metadata": {},
   "source": [
    "依次计算$w_2$的梯度。"
   ]
  },
  {
   "cell_type": "code",
   "execution_count": 21,
   "metadata": {
    "collapsed": false,
    "execution": {
     "iopub.execute_input": "2022-09-23T06:53:28.542552Z",
     "iopub.status.busy": "2022-09-23T06:53:28.541963Z",
     "iopub.status.idle": "2022-09-23T06:53:28.547215Z",
     "shell.execute_reply": "2022-09-23T06:53:28.546293Z",
     "shell.execute_reply.started": "2022-09-23T06:53:28.542522Z"
    },
    "jupyter": {
     "outputs_hidden": false
    },
    "scrolled": true
   },
   "outputs": [
    {
     "name": "stdout",
     "output_type": "stream",
     "text": [
      "gradient_w2 [9.58029163]\n"
     ]
    }
   ],
   "source": [
    "gradient_w2= (z1 - y1) * x1[2]\n",
    "print('gradient_w2 {}'.format(gradient_w2))"
   ]
  },
  {
   "cell_type": "markdown",
   "metadata": {},
   "source": [
    "聪明的读者可能已经想到，写一个for循环即可计算从$w_0$到$w_{12}$的所有权重的梯度，该方法读者可以自行实现。\n",
    "\n",
    "**（3）使用Numpy进行梯度计算**\n",
    "\n",
    "基于Numpy广播机制（对向量和矩阵计算如同对1个单一变量计算一样），可以更快速的实现梯度计算。计算梯度的代码中直接用$(z_1 - y_1) \\cdot x_1$，得到的是一个13维的向量，每个分量分别代表该维度的梯度。"
   ]
  },
  {
   "cell_type": "code",
   "execution_count": 22,
   "metadata": {
    "collapsed": false,
    "execution": {
     "iopub.execute_input": "2022-09-23T06:53:28.549134Z",
     "iopub.status.busy": "2022-09-23T06:53:28.548474Z",
     "iopub.status.idle": "2022-09-23T06:53:28.553714Z",
     "shell.execute_reply": "2022-09-23T06:53:28.552894Z",
     "shell.execute_reply.started": "2022-09-23T06:53:28.549106Z"
    },
    "jupyter": {
     "outputs_hidden": false
    },
    "scrolled": true
   },
   "outputs": [
    {
     "name": "stdout",
     "output_type": "stream",
     "text": [
      "gradient_w_by_sample1 [  0.          23.48051799   9.58029163   0.          41.06674958\n",
      "  75.33401592  83.69586171  35.11682862   0.          29.68425495\n",
      "  37.46891169 130.44732219  11.69850434], gradient.shape (13,)\n"
     ]
    }
   ],
   "source": [
    "gradient_w = (z1 - y1) * x1\n",
    "print('gradient_w_by_sample1 {}, gradient.shape {}'.format(gradient_w, gradient_w.shape))"
   ]
  },
  {
   "cell_type": "markdown",
   "metadata": {},
   "source": [
    "输入数据中有多个样本，每个样本都对梯度有贡献。如上代码计算了只有样本1时的梯度值，同样的计算方法也可以计算样本2和样本3对梯度的贡献。"
   ]
  },
  {
   "cell_type": "code",
   "execution_count": 23,
   "metadata": {
    "collapsed": false,
    "execution": {
     "iopub.execute_input": "2022-09-23T06:53:28.555170Z",
     "iopub.status.busy": "2022-09-23T06:53:28.554902Z",
     "iopub.status.idle": "2022-09-23T06:53:28.560723Z",
     "shell.execute_reply": "2022-09-23T06:53:28.559873Z",
     "shell.execute_reply.started": "2022-09-23T06:53:28.555147Z"
    },
    "jupyter": {
     "outputs_hidden": false
    },
    "scrolled": true
   },
   "outputs": [
    {
     "name": "stdout",
     "output_type": "stream",
     "text": [
      "gradient_w_by_sample2 [2.54738434e-02 0.00000000e+00 2.83333765e+01 0.00000000e+00\n",
      " 1.86624242e+01 5.91703008e+01 8.45121992e+01 3.76793284e+01\n",
      " 4.69458498e+00 1.23980167e+01 5.97311025e+01 1.07975454e+02\n",
      " 2.20777626e+01], gradient.shape (13,)\n"
     ]
    }
   ],
   "source": [
    "x2 = x[1]\n",
    "y2 = y[1]\n",
    "z2 = net.forward(x2)\n",
    "gradient_w = (z2 - y2) * x2\n",
    "print('gradient_w_by_sample2 {}, gradient.shape {}'.format(gradient_w, gradient_w.shape))"
   ]
  },
  {
   "cell_type": "code",
   "execution_count": 24,
   "metadata": {
    "collapsed": false,
    "execution": {
     "iopub.execute_input": "2022-09-23T06:53:28.562020Z",
     "iopub.status.busy": "2022-09-23T06:53:28.561757Z",
     "iopub.status.idle": "2022-09-23T06:53:28.567665Z",
     "shell.execute_reply": "2022-09-23T06:53:28.566960Z",
     "shell.execute_reply.started": "2022-09-23T06:53:28.561996Z"
    },
    "jupyter": {
     "outputs_hidden": false
    },
    "scrolled": true
   },
   "outputs": [
    {
     "name": "stdout",
     "output_type": "stream",
     "text": [
      "gradient_w_by_sample3 [3.07963708e-02 0.00000000e+00 3.42860463e+01 0.00000000e+00\n",
      " 2.25832858e+01 9.07287666e+01 7.83155260e+01 4.55955257e+01\n",
      " 5.68088867e+00 1.50027645e+01 7.22802431e+01 1.29029688e+02\n",
      " 8.29246719e+00], gradient.shape (13,)\n"
     ]
    }
   ],
   "source": [
    "x3 = x[2]\n",
    "y3 = y[2]\n",
    "z3 = net.forward(x3)\n",
    "gradient_w = (z3 - y3) * x3\n",
    "print('gradient_w_by_sample3 {}, gradient.shape {}'.format(gradient_w, gradient_w.shape))"
   ]
  },
  {
   "cell_type": "markdown",
   "metadata": {},
   "source": [
    "可能有的读者再次想到可以使用for循环把每个样本对梯度的贡献都计算出来，然后再作平均。但是我们不需要这么做，仍然可以使用Numpy的矩阵操作来简化运算，如3个样本的情况。"
   ]
  },
  {
   "cell_type": "code",
   "execution_count": 25,
   "metadata": {
    "collapsed": false,
    "execution": {
     "iopub.execute_input": "2022-09-23T06:53:28.569087Z",
     "iopub.status.busy": "2022-09-23T06:53:28.568642Z",
     "iopub.status.idle": "2022-09-23T06:53:28.575469Z",
     "shell.execute_reply": "2022-09-23T06:53:28.574775Z",
     "shell.execute_reply.started": "2022-09-23T06:53:28.569063Z"
    },
    "jupyter": {
     "outputs_hidden": false
    },
    "scrolled": true
   },
   "outputs": [
    {
     "name": "stdout",
     "output_type": "stream",
     "text": [
      "x [[0.00000000e+00 1.80000000e-01 7.34418420e-02 0.00000000e+00\n",
      "  3.14814815e-01 5.77505269e-01 6.41606591e-01 2.69203139e-01\n",
      "  0.00000000e+00 2.27557411e-01 2.87234043e-01 1.00000000e+00\n",
      "  8.96799117e-02]\n",
      " [2.35922539e-04 0.00000000e+00 2.62405717e-01 0.00000000e+00\n",
      "  1.72839506e-01 5.47997701e-01 7.82698249e-01 3.48961980e-01\n",
      "  4.34782609e-02 1.14822547e-01 5.53191489e-01 1.00000000e+00\n",
      "  2.04470199e-01]\n",
      " [2.35697744e-04 0.00000000e+00 2.62405717e-01 0.00000000e+00\n",
      "  1.72839506e-01 6.94385898e-01 5.99382080e-01 3.48961980e-01\n",
      "  4.34782609e-02 1.14822547e-01 5.53191489e-01 9.87519166e-01\n",
      "  6.34657837e-02]], shape (3, 13)\n",
      "y [[0.42222222]\n",
      " [0.36888889]\n",
      " [0.66      ]], shape (3, 1)\n",
      "z [[130.86954441]\n",
      " [108.34434338]\n",
      " [131.3204395 ]], shape (3, 1)\n"
     ]
    }
   ],
   "source": [
    "# 注意这里是一次取出3个样本的数据，不是取出第3个样本\n",
    "x3samples = x[0:3]\n",
    "y3samples = y[0:3]\n",
    "z3samples = net.forward(x3samples)\n",
    "\n",
    "print('x {}, shape {}'.format(x3samples, x3samples.shape))\n",
    "print('y {}, shape {}'.format(y3samples, y3samples.shape))\n",
    "print('z {}, shape {}'.format(z3samples, z3samples.shape))"
   ]
  },
  {
   "cell_type": "markdown",
   "metadata": {},
   "source": [
    "上面的x3samples, y3samples, z3samples的第一维大小均为3，表示有3个样本。下面计算这3个样本对梯度的贡献。"
   ]
  },
  {
   "cell_type": "code",
   "execution_count": 26,
   "metadata": {
    "collapsed": false,
    "execution": {
     "iopub.execute_input": "2022-09-23T06:53:28.577208Z",
     "iopub.status.busy": "2022-09-23T06:53:28.576522Z",
     "iopub.status.idle": "2022-09-23T06:53:28.581605Z",
     "shell.execute_reply": "2022-09-23T06:53:28.580919Z",
     "shell.execute_reply.started": "2022-09-23T06:53:28.577181Z"
    },
    "jupyter": {
     "outputs_hidden": false
    },
    "scrolled": true
   },
   "outputs": [
    {
     "name": "stdout",
     "output_type": "stream",
     "text": [
      "gradient_w [[0.00000000e+00 2.34805180e+01 9.58029163e+00 0.00000000e+00\n",
      "  4.10667496e+01 7.53340159e+01 8.36958617e+01 3.51168286e+01\n",
      "  0.00000000e+00 2.96842549e+01 3.74689117e+01 1.30447322e+02\n",
      "  1.16985043e+01]\n",
      " [2.54738434e-02 0.00000000e+00 2.83333765e+01 0.00000000e+00\n",
      "  1.86624242e+01 5.91703008e+01 8.45121992e+01 3.76793284e+01\n",
      "  4.69458498e+00 1.23980167e+01 5.97311025e+01 1.07975454e+02\n",
      "  2.20777626e+01]\n",
      " [3.07963708e-02 0.00000000e+00 3.42860463e+01 0.00000000e+00\n",
      "  2.25832858e+01 9.07287666e+01 7.83155260e+01 4.55955257e+01\n",
      "  5.68088867e+00 1.50027645e+01 7.22802431e+01 1.29029688e+02\n",
      "  8.29246719e+00]], gradient.shape (3, 13)\n"
     ]
    }
   ],
   "source": [
    "gradient_w = (z3samples - y3samples) * x3samples\n",
    "print('gradient_w {}, gradient.shape {}'.format(gradient_w, gradient_w.shape))"
   ]
  },
  {
   "cell_type": "markdown",
   "metadata": {},
   "source": [
    "此处可见，计算梯度`gradient_w`的维度是$3 \\times 13$，并且其第1行与上面第1个样本计算的梯度gradient_w_by_sample1一致，第2行与上面第2个样本计算的梯度gradient_w_by_sample2一致，第3行与上面第3个样本计算的梯度gradient_w_by_sample3一致。这里使用矩阵操作，可以更加方便的对3个样本分别计算各自对梯度的贡献。\n",
    "\n",
    "那么对于有N个样本的情形，我们可以直接使用如下方式计算出所有样本对梯度的贡献，这就是使用Numpy库广播功能带来的便捷。\n",
    "小结一下这里使用Numpy库的广播功能：\n",
    "- 一方面可以扩展参数的维度，代替for循环来计算1个样本对从$w_{0}$到$w_{12}$的所有参数的梯度。\n",
    "- 另一方面可以扩展样本的维度，代替for循环来计算样本0到样本403对参数的梯度。"
   ]
  },
  {
   "cell_type": "code",
   "execution_count": 27,
   "metadata": {
    "collapsed": false,
    "execution": {
     "iopub.execute_input": "2022-09-23T06:53:28.583697Z",
     "iopub.status.busy": "2022-09-23T06:53:28.582732Z",
     "iopub.status.idle": "2022-09-23T06:53:28.589061Z",
     "shell.execute_reply": "2022-09-23T06:53:28.588341Z",
     "shell.execute_reply.started": "2022-09-23T06:53:28.583670Z"
    },
    "jupyter": {
     "outputs_hidden": false
    },
    "scrolled": true
   },
   "outputs": [
    {
     "name": "stdout",
     "output_type": "stream",
     "text": [
      "gradient_w shape (404, 13)\n",
      "[[0.00000000e+00 2.34805180e+01 9.58029163e+00 ... 3.74689117e+01\n",
      "  1.30447322e+02 1.16985043e+01]\n",
      " [2.54738434e-02 0.00000000e+00 2.83333765e+01 ... 5.97311025e+01\n",
      "  1.07975454e+02 2.20777626e+01]\n",
      " [3.07963708e-02 0.00000000e+00 3.42860463e+01 ... 7.22802431e+01\n",
      "  1.29029688e+02 8.29246719e+00]\n",
      " ...\n",
      " [3.97706874e+01 0.00000000e+00 1.74130673e+02 ... 2.01043762e+02\n",
      "  2.48659390e+02 1.27554582e+02]\n",
      " [2.69696515e+01 0.00000000e+00 1.75225687e+02 ... 2.02308019e+02\n",
      "  2.34270491e+02 1.28287658e+02]\n",
      " [6.08972123e+01 0.00000000e+00 1.53017134e+02 ... 1.76666981e+02\n",
      "  2.18509161e+02 1.08772220e+02]]\n"
     ]
    }
   ],
   "source": [
    "z = net.forward(x)\n",
    "gradient_w = (z - y) * x\n",
    "print('gradient_w shape {}'.format(gradient_w.shape))\n",
    "print(gradient_w)"
   ]
  },
  {
   "cell_type": "markdown",
   "metadata": {},
   "source": [
    "上面gradient_w的每一行代表了一个样本对梯度的贡献。根据梯度的计算公式，总梯度是对每个样本对梯度贡献的平均值。\n",
    "\n",
    "$$\\frac{\\partial{L}}{\\partial{w_j}} = \\frac{1}{N}\\sum_{i=1}^N{(z_i - y_i)\\frac{\\partial{z_i}}{\\partial{w_j}}} = \\frac{1}{N}\\sum_{i=1}^N{(z_i - y_i)x_i^{j}}$$\n",
    "\n",
    "我们也可以使用Numpy的均值函数来完成此过程："
   ]
  },
  {
   "cell_type": "code",
   "execution_count": 28,
   "metadata": {
    "collapsed": false,
    "execution": {
     "iopub.execute_input": "2022-09-23T06:53:28.595128Z",
     "iopub.status.busy": "2022-09-23T06:53:28.594767Z",
     "iopub.status.idle": "2022-09-23T06:53:28.601381Z",
     "shell.execute_reply": "2022-09-23T06:53:28.600574Z",
     "shell.execute_reply.started": "2022-09-23T06:53:28.595102Z"
    },
    "jupyter": {
     "outputs_hidden": false
    },
    "scrolled": true
   },
   "outputs": [
    {
     "name": "stdout",
     "output_type": "stream",
     "text": [
      "gradient_w  (13,)\n",
      "w  (13, 1)\n",
      "[  4.6555403   19.35268996  55.88081118  14.00266972  47.98588869\n",
      "  76.87210821  94.8555119   36.07579608  45.44575958  59.65733292\n",
      "  83.65114918 134.80387478  38.93998153]\n",
      "[[ 1.76405235e+00]\n",
      " [ 4.00157208e-01]\n",
      " [ 9.78737984e-01]\n",
      " [ 2.24089320e+00]\n",
      " [ 1.86755799e+00]\n",
      " [ 1.59000000e+02]\n",
      " [ 9.50088418e-01]\n",
      " [-1.51357208e-01]\n",
      " [-1.03218852e-01]\n",
      " [ 1.59000000e+02]\n",
      " [ 1.44043571e-01]\n",
      " [ 1.45427351e+00]\n",
      " [ 7.61037725e-01]]\n"
     ]
    }
   ],
   "source": [
    "# axis = 0 表示把每一行做相加然后再除以总的行数\n",
    "gradient_w = np.mean(gradient_w, axis=0)\n",
    "print('gradient_w ', gradient_w.shape)\n",
    "print('w ', net.w.shape)\n",
    "print(gradient_w)\n",
    "print(net.w)\n"
   ]
  },
  {
   "cell_type": "markdown",
   "metadata": {},
   "source": [
    "我们使用Numpy的矩阵操作方便地完成了gradient的计算，但引入了一个问题，`gradient_w`的形状是(13,)，而$w$的维度是(13, 1)。导致该问题的原因是使用`np.mean`函数时消除了第0维。为了加减乘除等计算方便，`gradient_w`和$w$必须保持一致的形状。因此我们将`gradient_w`的维度也设置为(13,1)，代码如下："
   ]
  },
  {
   "cell_type": "code",
   "execution_count": 29,
   "metadata": {
    "collapsed": false,
    "execution": {
     "iopub.execute_input": "2022-09-23T06:53:28.602895Z",
     "iopub.status.busy": "2022-09-23T06:53:28.602625Z",
     "iopub.status.idle": "2022-09-23T06:53:28.607090Z",
     "shell.execute_reply": "2022-09-23T06:53:28.606183Z",
     "shell.execute_reply.started": "2022-09-23T06:53:28.602871Z"
    },
    "jupyter": {
     "outputs_hidden": false
    },
    "scrolled": true
   },
   "outputs": [
    {
     "name": "stdout",
     "output_type": "stream",
     "text": [
      "gradient_w shape (13, 1)\n"
     ]
    }
   ],
   "source": [
    "gradient_w = gradient_w[:, np.newaxis]\n",
    "print('gradient_w shape', gradient_w.shape)"
   ]
  },
  {
   "cell_type": "markdown",
   "metadata": {},
   "source": [
    "综合上面的剖析，计算梯度的代码如下所示。"
   ]
  },
  {
   "cell_type": "code",
   "execution_count": 30,
   "metadata": {
    "collapsed": false,
    "execution": {
     "iopub.execute_input": "2022-09-23T06:53:28.608548Z",
     "iopub.status.busy": "2022-09-23T06:53:28.608100Z",
     "iopub.status.idle": "2022-09-23T06:53:28.615697Z",
     "shell.execute_reply": "2022-09-23T06:53:28.614624Z",
     "shell.execute_reply.started": "2022-09-23T06:53:28.608522Z"
    },
    "jupyter": {
     "outputs_hidden": false
    },
    "scrolled": true
   },
   "outputs": [
    {
     "data": {
      "text/plain": [
       "array([[  4.6555403 ],\n",
       "       [ 19.35268996],\n",
       "       [ 55.88081118],\n",
       "       [ 14.00266972],\n",
       "       [ 47.98588869],\n",
       "       [ 76.87210821],\n",
       "       [ 94.8555119 ],\n",
       "       [ 36.07579608],\n",
       "       [ 45.44575958],\n",
       "       [ 59.65733292],\n",
       "       [ 83.65114918],\n",
       "       [134.80387478],\n",
       "       [ 38.93998153]])"
      ]
     },
     "execution_count": 30,
     "metadata": {},
     "output_type": "execute_result"
    }
   ],
   "source": [
    "z = net.forward(x)\n",
    "gradient_w = (z - y) * x\n",
    "gradient_w = np.mean(gradient_w, axis=0)\n",
    "gradient_w = gradient_w[:, np.newaxis]\n",
    "gradient_w"
   ]
  },
  {
   "cell_type": "markdown",
   "metadata": {},
   "source": [
    "上述代码非常简洁地完成了$w$的梯度计算。同样，计算$b$的梯度的代码也是类似的原理。"
   ]
  },
  {
   "cell_type": "code",
   "execution_count": 31,
   "metadata": {
    "collapsed": false,
    "execution": {
     "iopub.execute_input": "2022-09-23T06:53:28.617132Z",
     "iopub.status.busy": "2022-09-23T06:53:28.616731Z",
     "iopub.status.idle": "2022-09-23T06:53:28.621947Z",
     "shell.execute_reply": "2022-09-23T06:53:28.621226Z",
     "shell.execute_reply.started": "2022-09-23T06:53:28.617108Z"
    },
    "jupyter": {
     "outputs_hidden": false
    },
    "scrolled": true
   },
   "outputs": [
    {
     "data": {
      "text/plain": [
       "142.50289323156107"
      ]
     },
     "execution_count": 31,
     "metadata": {},
     "output_type": "execute_result"
    }
   ],
   "source": [
    "gradient_b = (z - y)\n",
    "gradient_b = np.mean(gradient_b)\n",
    "# 此处b是一个数值，所以可以直接用np.mean得到一个标量\n",
    "gradient_b"
   ]
  },
  {
   "cell_type": "markdown",
   "metadata": {},
   "source": [
    "将上面计算$w$和$b$的梯度的过程，写成Network类的`gradient`函数，实现方法如下所示。"
   ]
  },
  {
   "cell_type": "code",
   "execution_count": 32,
   "metadata": {
    "collapsed": false,
    "execution": {
     "iopub.execute_input": "2022-09-23T06:53:28.623490Z",
     "iopub.status.busy": "2022-09-23T06:53:28.623066Z",
     "iopub.status.idle": "2022-09-23T06:53:28.630451Z",
     "shell.execute_reply": "2022-09-23T06:53:28.629685Z",
     "shell.execute_reply.started": "2022-09-23T06:53:28.623465Z"
    },
    "jupyter": {
     "outputs_hidden": false
    },
    "scrolled": true
   },
   "outputs": [],
   "source": [
    "class Network(object):\n",
    "    def __init__(self, num_of_weights):\n",
    "        # 随机产生w的初始值\n",
    "        # 为了保持程序每次运行结果的一致性，此处设置固定的随机数种子\n",
    "        np.random.seed(0)\n",
    "        self.w = np.random.randn(num_of_weights, 1)\n",
    "        self.b = 0.\n",
    "        \n",
    "    def forward(self, x):\n",
    "        z = np.dot(x, self.w) + self.b\n",
    "        return z\n",
    "    \n",
    "    def loss(self, z, y):\n",
    "        error = z - y\n",
    "        num_samples = error.shape[0]\n",
    "        cost = error * error\n",
    "        cost = np.sum(cost) / num_samples\n",
    "        return cost\n",
    "    \n",
    "    def gradient(self, x, y):\n",
    "        z = self.forward(x)\n",
    "        gradient_w = (z-y)*x\n",
    "        gradient_w = np.mean(gradient_w, axis=0)\n",
    "        gradient_w = gradient_w[:, np.newaxis]\n",
    "        gradient_b = (z - y)\n",
    "        gradient_b = np.mean(gradient_b)\n",
    "        \n",
    "        return gradient_w, gradient_b"
   ]
  },
  {
   "cell_type": "code",
   "execution_count": 33,
   "metadata": {
    "collapsed": false,
    "execution": {
     "iopub.execute_input": "2022-09-23T06:53:28.631972Z",
     "iopub.status.busy": "2022-09-23T06:53:28.631419Z",
     "iopub.status.idle": "2022-09-23T06:53:28.639492Z",
     "shell.execute_reply": "2022-09-23T06:53:28.638547Z",
     "shell.execute_reply.started": "2022-09-23T06:53:28.631947Z"
    },
    "jupyter": {
     "outputs_hidden": false
    },
    "scrolled": true
   },
   "outputs": [
    {
     "name": "stdout",
     "output_type": "stream",
     "text": [
      "point [-100.0, -100.0], loss 7873.345739941161\n",
      "gradient [-45.87968288123223, -35.50236884482904]\n"
     ]
    }
   ],
   "source": [
    "# 调用上面定义的gradient函数，计算梯度\n",
    "# 初始化网络\n",
    "net = Network(13)\n",
    "# 设置[w5, w9] = [-100., -100.]\n",
    "net.w[5] = -100.0\n",
    "net.w[9] = -100.0\n",
    "\n",
    "z = net.forward(x)\n",
    "loss = net.loss(z, y)\n",
    "gradient_w, gradient_b = net.gradient(x, y)\n",
    "gradient_w5 = gradient_w[5][0]\n",
    "gradient_w9 = gradient_w[9][0]\n",
    "print('point {}, loss {}'.format([net.w[5][0], net.w[9][0]], loss))\n",
    "print('gradient {}'.format([gradient_w5, gradient_w9]))\n"
   ]
  },
  {
   "cell_type": "markdown",
   "metadata": {},
   "source": [
    "**（4）确定损失函数更小的点**\n",
    "\n",
    "下面我们开始研究更新梯度的方法。首先沿着梯度的反方向移动一小步，找到下一个点P1，观察损失函数的变化。"
   ]
  },
  {
   "cell_type": "code",
   "execution_count": 34,
   "metadata": {
    "collapsed": false,
    "execution": {
     "iopub.execute_input": "2022-09-23T06:53:28.640951Z",
     "iopub.status.busy": "2022-09-23T06:53:28.640676Z",
     "iopub.status.idle": "2022-09-23T06:53:28.659379Z",
     "shell.execute_reply": "2022-09-23T06:53:28.658510Z",
     "shell.execute_reply.started": "2022-09-23T06:53:28.640927Z"
    },
    "jupyter": {
     "outputs_hidden": false
    },
    "scrolled": true
   },
   "outputs": [
    {
     "name": "stdout",
     "output_type": "stream",
     "text": [
      "point [-95.41203171187678, -96.4497631155171], loss 7214.694816482369\n",
      "gradient [-43.883932999069096, -34.019273908495926]\n"
     ]
    }
   ],
   "source": [
    "# 在[w5, w9]平面上，沿着梯度的反方向移动到下一个点P1\n",
    "# 定义移动步长 eta\n",
    "eta = 0.1\n",
    "# 更新参数w5和w9\n",
    "net.w[5] = net.w[5] - eta * gradient_w5\n",
    "net.w[9] = net.w[9] - eta * gradient_w9\n",
    "# 重新计算z和loss\n",
    "z = net.forward(x)\n",
    "loss = net.loss(z, y)\n",
    "gradient_w, gradient_b = net.gradient(x, y)\n",
    "gradient_w5 = gradient_w[5][0]\n",
    "gradient_w9 = gradient_w[9][0]\n",
    "print('point {}, loss {}'.format([net.w[5][0], net.w[9][0]], loss))\n",
    "print('gradient {}'.format([gradient_w5, gradient_w9]))"
   ]
  },
  {
   "cell_type": "markdown",
   "metadata": {},
   "source": [
    "运行上面的代码，可以发现沿着梯度反方向走一小步，下一个点的损失函数的确减少了。感兴趣的话，大家可以尝试不停的点击上面的代码块，观察损失函数是否一直在变小。\n",
    "\n",
    "在上述代码中，每次更新参数使用的语句：\n",
    "`net.w[5] = net.w[5] - eta * gradient_w5`\n",
    "\n",
    "* 相减：参数需要向梯度的反方向移动。\n",
    "* eta：控制每次参数值沿着梯度反方向变动的大小，即每次移动的步长，又称为学习率。\n",
    "\n",
    "大家可以思考下，为什么之前我们要做输入特征的归一化，保持尺度一致？这是为了让统一的步长更加合适。\n",
    "\n",
    "如 **图8** 所示，特征输入归一化后，不同参数输出的Loss是一个比较规整的曲线，学习率可以设置成统一的值 ；特征输入未归一化时，不同特征对应的参数所需的步长不一致，尺度较大的参数需要大步长，尺寸较小的参数需要小步长，导致无法设置统一的学习率。\n",
    "\n",
    "<center><img src=\"https://ai-studio-static-online.cdn.bcebos.com/903f552bc55b4a5eba71caa7dd86fd2d7b71b8ebb6cb4500a5f5711f465707f3\" width=\"300\" hegiht=\"40\" ></center>\n",
    "<center><br>图8：未归一化的特征，会导致不同特征维度的理想步长不同</br></center>\n",
    "<br></br>\n",
    "\n",
    "**（5）代码封装Train函数**\n",
    "\n",
    "将上面的循环计算过程封装在`train`和`update`函数中，实现方法如下所示。"
   ]
  },
  {
   "cell_type": "code",
   "execution_count": 35,
   "metadata": {
    "collapsed": false,
    "execution": {
     "iopub.execute_input": "2022-09-23T06:53:28.660605Z",
     "iopub.status.busy": "2022-09-23T06:53:28.660373Z",
     "iopub.status.idle": "2022-09-23T06:53:29.100464Z",
     "shell.execute_reply": "2022-09-23T06:53:29.099406Z",
     "shell.execute_reply.started": "2022-09-23T06:53:28.660585Z"
    },
    "jupyter": {
     "outputs_hidden": false
    },
    "scrolled": true
   },
   "outputs": [
    {
     "name": "stdout",
     "output_type": "stream",
     "text": [
      "iter 0, point [-99.54120317118768, -99.64497631155172], loss 7873.345739941161\n",
      "iter 50, point [-78.9761810944732, -83.65939206734069], loss 5131.480704109405\n",
      "iter 100, point [-62.4493631356931, -70.67918223434114], loss 3346.754494352463\n",
      "iter 150, point [-49.17799206644332, -60.12620415441553], loss 2184.906016270654\n",
      "iter 200, point [-38.53070194231174, -51.533984751788346], loss 1428.4172504483342\n",
      "iter 250, point [-29.998249130283174, -44.52613603923428], loss 935.7392894242679\n",
      "iter 300, point [-23.169901624519575, -38.79894318028118], loss 614.7592258739251\n",
      "iter 350, point [-17.71439280083778, -34.10731848231335], loss 405.53408184471505\n",
      "iter 400, point [-13.364557220746388, -30.253470630210863], loss 269.0551396220099\n",
      "iter 450, point [-9.904936677384967, -27.077764259976597], loss 179.9364750604248\n",
      "iter 500, point [-7.161782280775628, -24.451346444229817], loss 121.65711285489998\n",
      "iter 550, point [-4.994989383373879, -22.270198517465555], loss 83.46491706360901\n",
      "iter 600, point [-3.2915916915280783, -20.450337700789422], loss 58.36183370758033\n",
      "iter 650, point [-1.9605131425212885, -18.923946252536773], loss 41.792808952534\n",
      "iter 700, point [-0.9283343968114077, -17.636248840494844], loss 30.792614998570482\n",
      "iter 750, point [-0.13587780041668718, -16.542993494033716], loss 23.43065354742935\n",
      "iter 800, point [0.4645474092373408, -15.60841945615185], loss 18.449664464381506\n",
      "iter 850, point [0.9113672926170796, -14.803617811655524], loss 15.030615923519784\n",
      "iter 900, point [1.2355357562745004, -14.105208963393421], loss 12.639705730905764\n",
      "iter 950, point [1.4619805189121953, -13.494275706622066], loss 10.928795653764196\n",
      "iter 1000, point [1.6107694974712377, -12.955502492189021], loss 9.670616807081698\n",
      "iter 1050, point [1.6980516626374353, -12.476481020835202], loss 8.716602071285436\n",
      "iter 1100, point [1.7368159644039771, -12.04715001603925], loss 7.969442965176621\n",
      "iter 1150, point [1.7375034995020395, -11.659343238414994], loss 7.365228465612388\n",
      "iter 1200, point [1.7085012931271857, -11.306424818680442], loss 6.861819342703047\n",
      "iter 1250, point [1.6565405824483015, -10.982995030930885], loss 6.431280353078019\n",
      "iter 1300, point [1.5870180647823104, -10.684652890749808], loss 6.054953198278096\n",
      "iter 1350, point [1.5042550040699705, -10.407804594738165], loss 5.720248083137862\n",
      "iter 1400, point [1.4117062100403601, -10.14950894127009], loss 5.418553777303124\n",
      "iter 1450, point [1.3121285818148223, -9.907352585055445], loss 5.143875665274019\n",
      "iter 1500, point [1.2077170340724794, -9.67934935975478], loss 4.891947653805328\n",
      "iter 1550, point [1.1002141124777076, -9.463859017459276], loss 4.659652555766873\n",
      "iter 1600, point [0.990998385834045, -9.259521632951046], loss 4.444643323159747\n",
      "iter 1650, point [0.8811557188942747, -9.065204645952335], loss 4.245095084874306\n",
      "iter 1700, point [0.7715367363576023, -8.87996009965401], loss 4.059542401818773\n",
      "iter 1750, point [0.662803148565214, -8.702990105791185], loss 3.88677206759292\n",
      "iter 1800, point [0.5554650931141796, -8.533618947271485], loss 3.7257521401326525\n",
      "iter 1850, point [0.4499112301277286, -8.371270536496699], loss 3.5755846299900256\n",
      "iter 1900, point [0.3464329929523944, -8.215450195281456], loss 3.435473657404253\n",
      "iter 1950, point [0.24524412503452966, -8.065729922139326], loss 3.3047037451160453\n"
     ]
    },
    {
     "data": {
      "image/png": "[encoded data removed]",
      "text/plain": [
       "<Figure size 640x480 with 1 Axes>"
      ]
     },
     "metadata": {},
     "output_type": "display_data"
    }
   ],
   "source": [
    "class Network(object):\n",
    "    def __init__(self, num_of_weights):\n",
    "        # 随机产生w的初始值\n",
    "        # 为了保持程序每次运行结果的一致性，此处设置固定的随机数种子\n",
    "        np.random.seed(0)\n",
    "        self.w = np.random.randn(num_of_weights,1)\n",
    "        self.w[5] = -100.\n",
    "        self.w[9] = -100.\n",
    "        self.b = 0.\n",
    "        \n",
    "    def forward(self, x):\n",
    "        z = np.dot(x, self.w) + self.b\n",
    "        return z\n",
    "    \n",
    "    def loss(self, z, y):\n",
    "        error = z - y\n",
    "        num_samples = error.shape[0]\n",
    "        cost = error * error\n",
    "        cost = np.sum(cost) / num_samples\n",
    "        return cost\n",
    "    \n",
    "    def gradient(self, x, y):\n",
    "        z = self.forward(x)\n",
    "        gradient_w = (z-y)*x\n",
    "        gradient_w = np.mean(gradient_w, axis=0)\n",
    "        gradient_w = gradient_w[:, np.newaxis]\n",
    "        gradient_b = (z - y)\n",
    "        gradient_b = np.mean(gradient_b)        \n",
    "        return gradient_w, gradient_b\n",
    "    \n",
    "    def update(self, gradient_w5, gradient_w9, eta=0.01):\n",
    "        net.w[5] = net.w[5] - eta * gradient_w5\n",
    "        net.w[9] = net.w[9] - eta * gradient_w9\n",
    "        \n",
    "    def train(self, x, y, iterations=100, eta=0.01):\n",
    "        points = []\n",
    "        losses = []\n",
    "        for i in range(iterations):\n",
    "            points.append([net.w[5][0], net.w[9][0]])\n",
    "            z = self.forward(x)\n",
    "            L = self.loss(z, y)\n",
    "            gradient_w, gradient_b = self.gradient(x, y)\n",
    "            gradient_w5 = gradient_w[5][0]\n",
    "            gradient_w9 = gradient_w[9][0]\n",
    "            self.update(gradient_w5, gradient_w9, eta)\n",
    "            losses.append(L)\n",
    "            if i % 50 == 0:\n",
    "                print('iter {}, point {}, loss {}'.format(i, [net.w[5][0], net.w[9][0]], L))\n",
    "        return points, losses\n",
    "\n",
    "# 获取数据\n",
    "train_data, test_data = load_data()\n",
    "x = train_data[:, :-1]\n",
    "y = train_data[:, -1:]\n",
    "# 创建网络\n",
    "net = Network(13)\n",
    "num_iterations=2000\n",
    "# 启动训练\n",
    "points, losses = net.train(x, y, iterations=num_iterations, eta=0.01)\n",
    "\n",
    "# 画出损失函数的变化趋势\n",
    "plot_x = np.arange(num_iterations)\n",
    "plot_y = np.array(losses)\n",
    "plt.plot(plot_x, plot_y)\n",
    "plt.show()"
   ]
  },
  {
   "cell_type": "markdown",
   "metadata": {},
   "source": [
    "**（6）训练扩展到全部参数**\n",
    "\n",
    "为了能给读者直观的感受，上面演示的梯度下降的过程仅包含$w_5$和$w_9$两个参数，但房价预测的完整模型，必须要对所有参数$w$和$b$进行求解。这需要将Network中的`update`和`train`函数进行修改。由于不再限定参与计算的参数（所有参数均参与计算），修改之后的代码反而更加简洁。实现逻辑：“前向计算输出、根据输出和真实值计算Loss、基于Loss和输入计算梯度、根据梯度更新参数值”四个部分反复执行，直到到损失函数最小。具体代码如下所示。"
   ]
  },
  {
   "cell_type": "code",
   "execution_count": 36,
   "metadata": {
    "collapsed": false,
    "execution": {
     "iopub.execute_input": "2022-09-23T06:53:29.102688Z",
     "iopub.status.busy": "2022-09-23T06:53:29.101895Z",
     "iopub.status.idle": "2022-09-23T06:53:29.472842Z",
     "shell.execute_reply": "2022-09-23T06:53:29.471821Z",
     "shell.execute_reply.started": "2022-09-23T06:53:29.102656Z"
    },
    "jupyter": {
     "outputs_hidden": false
    },
    "scrolled": true
   },
   "outputs": [
    {
     "name": "stdout",
     "output_type": "stream",
     "text": [
      "iter 9, loss 5.143394325795511\n",
      "iter 19, loss 3.097924194225988\n",
      "iter 29, loss 2.082241020617026\n",
      "iter 39, loss 1.5673801618157397\n",
      "iter 49, loss 1.296620473507743\n",
      "iter 59, loss 1.1453399043319765\n",
      "iter 69, loss 1.0530155717435201\n",
      "iter 79, loss 0.9902292156463153\n",
      "iter 89, loss 0.9426576903842502\n",
      "iter 99, loss 0.9033048096880774\n",
      "iter 109, loss 0.868732003041364\n",
      "iter 119, loss 0.837229250968144\n",
      "iter 129, loss 0.807927474161227\n",
      "iter 139, loss 0.7803677341465796\n",
      "iter 149, loss 0.7542920908532763\n",
      "iter 159, loss 0.7295420168915829\n",
      "iter 169, loss 0.7060090054240883\n",
      "iter 179, loss 0.6836105084697766\n",
      "iter 189, loss 0.6622781710179414\n",
      "iter 199, loss 0.6419520361168637\n",
      "iter 209, loss 0.6225776517869489\n",
      "iter 219, loss 0.6041045903195837\n",
      "iter 229, loss 0.5864856570315078\n",
      "iter 239, loss 0.5696764374763879\n",
      "iter 249, loss 0.5536350125932016\n",
      "iter 259, loss 0.5383217588525027\n",
      "iter 269, loss 0.5236991929680566\n",
      "iter 279, loss 0.5097318413761649\n",
      "iter 289, loss 0.4963861247069634\n",
      "iter 299, loss 0.48363025234390233\n",
      "iter 309, loss 0.4714341245401978\n",
      "iter 319, loss 0.45976924072044867\n",
      "iter 329, loss 0.44860861316591\n",
      "iter 339, loss 0.43792668556597936\n",
      "iter 349, loss 0.4276992560632111\n",
      "iter 359, loss 0.4179034044959738\n",
      "iter 369, loss 0.40851742358635523\n",
      "iter 379, loss 0.39952075384787633\n",
      "iter 389, loss 0.39089392200622347\n",
      "iter 399, loss 0.3826184827405131\n",
      "iter 409, loss 0.37467696356451247\n",
      "iter 419, loss 0.36705281267772816\n",
      "iter 429, loss 0.35973034962581096\n",
      "iter 439, loss 0.35269471861856694\n",
      "iter 449, loss 0.3459318443621334\n",
      "iter 459, loss 0.3394283902696658\n",
      "iter 469, loss 0.3331717189222164\n",
      "iter 479, loss 0.3271498546584252\n",
      "iter 489, loss 0.32135144817819605\n",
      "iter 499, loss 0.31576574305173283\n",
      "iter 509, loss 0.3103825440311681\n",
      "iter 519, loss 0.30519218706757245\n",
      "iter 529, loss 0.30018551094136725\n",
      "iter 539, loss 0.29535383041913843\n",
      "iter 549, loss 0.29068891085453674\n",
      "iter 559, loss 0.28618294415539336\n",
      "iter 569, loss 0.28182852604338504\n",
      "iter 579, loss 0.2776186345365534\n",
      "iter 589, loss 0.27354660958874766\n",
      "iter 599, loss 0.2696061338236152\n",
      "iter 609, loss 0.265791214304132\n",
      "iter 619, loss 0.262096165281848\n",
      "iter 629, loss 0.258515591873034\n",
      "iter 639, loss 0.25504437461176843\n",
      "iter 649, loss 0.2516776548326958\n",
      "iter 659, loss 0.24841082083874047\n",
      "iter 669, loss 0.24523949481147192\n",
      "iter 679, loss 0.2421595204240984\n",
      "iter 689, loss 0.23916695111922887\n",
      "iter 699, loss 0.23625803901558054\n",
      "iter 709, loss 0.2334292244097483\n",
      "iter 719, loss 0.23067712584097294\n",
      "iter 729, loss 0.22799853068858242\n",
      "iter 739, loss 0.22539038627340988\n",
      "iter 749, loss 0.22284979143604464\n",
      "iter 759, loss 0.22037398856623475\n",
      "iter 769, loss 0.2179603560591435\n",
      "iter 779, loss 0.2156064011754777\n",
      "iter 789, loss 0.2133097532837386\n",
      "iter 799, loss 0.2110681574640261\n",
      "iter 809, loss 0.2088794684539304\n",
      "iter 819, loss 0.20674164491810018\n",
      "iter 829, loss 0.20465274402406475\n",
      "iter 839, loss 0.20261091630783168\n",
      "iter 849, loss 0.20061440081366638\n",
      "iter 859, loss 0.1986615204933024\n",
      "iter 869, loss 0.19675067785062839\n",
      "iter 879, loss 0.19488035081864621\n",
      "iter 889, loss 0.19304908885621125\n",
      "iter 899, loss 0.19125550925273513\n",
      "iter 909, loss 0.1894982936296714\n",
      "iter 919, loss 0.18777618462820622\n",
      "iter 929, loss 0.18608798277314595\n",
      "iter 939, loss 0.18443254350353405\n",
      "iter 949, loss 0.18280877436103968\n",
      "iter 959, loss 0.18121563232764162\n",
      "iter 969, loss 0.1796521213045923\n",
      "iter 979, loss 0.1781172897250724\n",
      "iter 989, loss 0.17661022829336184\n",
      "iter 999, loss 0.17513006784373505\n"
     ]
    },
    {
     "data": {
      "image/png": "[encoded data removed]",
      "text/plain": [
       "<Figure size 640x480 with 1 Axes>"
      ]
     },
     "metadata": {},
     "output_type": "display_data"
    }
   ],
   "source": [
    "class Network(object):\n",
    "    def __init__(self, num_of_weights):\n",
    "        # 随机产生w的初始值\n",
    "        # 为了保持程序每次运行结果的一致性，此处设置固定的随机数种子\n",
    "        np.random.seed(0)\n",
    "        self.w = np.random.randn(num_of_weights, 1)\n",
    "        self.b = 0.\n",
    "        \n",
    "    def forward(self, x):\n",
    "        z = np.dot(x, self.w) + self.b\n",
    "        return z\n",
    "    \n",
    "    def loss(self, z, y):\n",
    "        error = z - y\n",
    "        num_samples = error.shape[0]\n",
    "        cost = error * error\n",
    "        cost = np.sum(cost) / num_samples\n",
    "        return cost\n",
    "    \n",
    "    def gradient(self, x, y):\n",
    "        z = self.forward(x)\n",
    "        gradient_w = (z-y)*x\n",
    "        gradient_w = np.mean(gradient_w, axis=0)\n",
    "        gradient_w = gradient_w[:, np.newaxis]\n",
    "        gradient_b = (z - y)\n",
    "        gradient_b = np.mean(gradient_b)        \n",
    "        return gradient_w, gradient_b\n",
    "    \n",
    "    def update(self, gradient_w, gradient_b, eta = 0.01):\n",
    "        self.w = self.w - eta * gradient_w\n",
    "        self.b = self.b - eta * gradient_b\n",
    "        \n",
    "    def train(self, x, y, iterations=100, eta=0.01):\n",
    "        losses = []\n",
    "        for i in range(iterations):\n",
    "            z = self.forward(x)\n",
    "            L = self.loss(z, y)\n",
    "            gradient_w, gradient_b = self.gradient(x, y)\n",
    "            self.update(gradient_w, gradient_b, eta)\n",
    "            losses.append(L)\n",
    "            if (i+1) % 10 == 0:\n",
    "                print('iter {}, loss {}'.format(i, L))\n",
    "        return losses\n",
    "\n",
    "# 获取数据\n",
    "train_data, test_data = load_data()\n",
    "x = train_data[:, :-1]\n",
    "y = train_data[:, -1:]\n",
    "# 创建网络\n",
    "net = Network(13)\n",
    "num_iterations=1000\n",
    "# 启动训练\n",
    "losses = net.train(x,y, iterations=num_iterations, eta=0.01)\n",
    "\n",
    "# 画出损失函数的变化趋势\n",
    "plot_x = np.arange(num_iterations)\n",
    "plot_y = np.array(losses)\n",
    "plt.plot(plot_x, plot_y)\n",
    "plt.show()"
   ]
  },
  {
   "cell_type": "markdown",
   "metadata": {},
   "source": [
    "**（7）随机梯度下降法（ Stochastic Gradient Descent）**\n",
    "\n",
    "在上述程序中，每次损失函数和梯度计算都是基于数据集中的全量数据。对于波士顿房价预测任务数据集而言，样本数比较少，只有404个。但在实际问题中，数据集往往非常大，如果每次都使用全量数据进行计算，效率非常低，通俗地说就是“杀鸡焉用牛刀”。由于参数每次只沿着梯度反方向更新一点点，因此方向并不需要那么精确。一个合理的解决方案是每次从总的数据集中随机抽取出小部分数据来代表整体，基于这部分数据计算梯度和损失来更新参数，这种方法被称作随机梯度下降法（Stochastic Gradient Descent，SGD），核心概念如下：\n",
    "\n",
    "* minibatch：每次迭代时抽取出来的一批数据被称为一个minibatch。\n",
    "* batch size：每个minibatch所包含的样本数目称为batch size。\n",
    "* Epoch：当程序迭代的时候，按minibatch逐渐抽取出样本，当把整个数据集都遍历到了的时候，则完成了一轮训练，也叫一个Epoch（轮次）。启动训练时，可以将训练的轮数`num_epochs`和`batch_size`作为参数传入。\n",
    "\n",
    "下面结合程序介绍具体的实现过程，涉及到数据处理和训练过程两部分代码的修改。\n",
    "\n",
    "1）数据处理需要实现拆分数据批次和样本乱序（为了实现随机抽样的效果）两个功能。"
   ]
  },
  {
   "cell_type": "code",
   "execution_count": 37,
   "metadata": {
    "collapsed": false,
    "execution": {
     "iopub.execute_input": "2022-09-23T06:53:29.474806Z",
     "iopub.status.busy": "2022-09-23T06:53:29.474189Z",
     "iopub.status.idle": "2022-09-23T06:53:29.486154Z",
     "shell.execute_reply": "2022-09-23T06:53:29.485241Z",
     "shell.execute_reply.started": "2022-09-23T06:53:29.474764Z"
    },
    "jupyter": {
     "outputs_hidden": false
    },
    "scrolled": true
   },
   "outputs": [
    {
     "data": {
      "text/plain": [
       "(404, 14)"
      ]
     },
     "execution_count": 37,
     "metadata": {},
     "output_type": "execute_result"
    }
   ],
   "source": [
    "# 获取数据\n",
    "train_data, test_data = load_data()\n",
    "train_data.shape"
   ]
  },
  {
   "cell_type": "markdown",
   "metadata": {},
   "source": [
    "train_data中一共包含404条数据，如果batch_size=10，即取前0-9号样本作为第一个minibatch，命名train_data1。"
   ]
  },
  {
   "cell_type": "code",
   "execution_count": 38,
   "metadata": {
    "collapsed": false,
    "execution": {
     "iopub.execute_input": "2022-09-23T06:53:29.488132Z",
     "iopub.status.busy": "2022-09-23T06:53:29.487693Z",
     "iopub.status.idle": "2022-09-23T06:53:29.493318Z",
     "shell.execute_reply": "2022-09-23T06:53:29.492496Z",
     "shell.execute_reply.started": "2022-09-23T06:53:29.488103Z"
    },
    "jupyter": {
     "outputs_hidden": false
    },
    "scrolled": true
   },
   "outputs": [
    {
     "data": {
      "text/plain": [
       "(10, 14)"
      ]
     },
     "execution_count": 38,
     "metadata": {},
     "output_type": "execute_result"
    }
   ],
   "source": [
    "train_data1 = train_data[0:10]\n",
    "train_data1.shape"
   ]
  },
  {
   "cell_type": "markdown",
   "metadata": {},
   "source": [
    "使用train_data1的数据（0-9号样本）计算梯度并更新网络参数。"
   ]
  },
  {
   "cell_type": "code",
   "execution_count": 39,
   "metadata": {
    "collapsed": false,
    "execution": {
     "iopub.execute_input": "2022-09-23T06:53:29.495010Z",
     "iopub.status.busy": "2022-09-23T06:53:29.494619Z",
     "iopub.status.idle": "2022-09-23T06:53:29.502007Z",
     "shell.execute_reply": "2022-09-23T06:53:29.501086Z",
     "shell.execute_reply.started": "2022-09-23T06:53:29.494974Z"
    },
    "jupyter": {
     "outputs_hidden": false
    },
    "scrolled": true
   },
   "outputs": [
    {
     "data": {
      "text/plain": [
       "[4.497480200683046]"
      ]
     },
     "execution_count": 39,
     "metadata": {},
     "output_type": "execute_result"
    }
   ],
   "source": [
    "net = Network(13)\n",
    "x = train_data1[:, :-1]\n",
    "y = train_data1[:, -1:]\n",
    "loss = net.train(x, y, iterations=1, eta=0.01)\n",
    "loss"
   ]
  },
  {
   "cell_type": "markdown",
   "metadata": {},
   "source": [
    "再取出10-19号样本作为第二个minibatch，计算梯度并更新网络参数。"
   ]
  },
  {
   "cell_type": "code",
   "execution_count": 40,
   "metadata": {
    "collapsed": false,
    "execution": {
     "iopub.execute_input": "2022-09-23T06:53:29.504055Z",
     "iopub.status.busy": "2022-09-23T06:53:29.503542Z",
     "iopub.status.idle": "2022-09-23T06:53:29.511219Z",
     "shell.execute_reply": "2022-09-23T06:53:29.510222Z",
     "shell.execute_reply.started": "2022-09-23T06:53:29.504024Z"
    },
    "jupyter": {
     "outputs_hidden": false
    },
    "scrolled": true
   },
   "outputs": [
    {
     "data": {
      "text/plain": [
       "[5.849682302465982]"
      ]
     },
     "execution_count": 40,
     "metadata": {},
     "output_type": "execute_result"
    }
   ],
   "source": [
    "train_data2 = train_data[10:20]\n",
    "x = train_data2[:, :-1]\n",
    "y = train_data2[:, -1:]\n",
    "loss = net.train(x, y, iterations=1, eta=0.01)\n",
    "loss"
   ]
  },
  {
   "cell_type": "markdown",
   "metadata": {},
   "source": [
    "按此方法不断的取出新的minibatch，并逐渐更新网络参数。\n",
    "\n",
    "接下来，将train_data分成大小为batch size的多个minibatch，如下代码所示：将train_data分成 $\\frac{404}{10} + 1 = 41$ 个 mini_batch，其中前40个mini_batch，每个均含有10个样本，最后一个minibatch只含有4个样本。"
   ]
  },
  {
   "cell_type": "code",
   "execution_count": 41,
   "metadata": {
    "collapsed": false,
    "execution": {
     "iopub.execute_input": "2022-09-23T06:53:29.512967Z",
     "iopub.status.busy": "2022-09-23T06:53:29.512512Z",
     "iopub.status.idle": "2022-09-23T06:53:29.520032Z",
     "shell.execute_reply": "2022-09-23T06:53:29.519193Z",
     "shell.execute_reply.started": "2022-09-23T06:53:29.512923Z"
    },
    "jupyter": {
     "outputs_hidden": false
    },
    "scrolled": true
   },
   "outputs": [
    {
     "name": "stdout",
     "output_type": "stream",
     "text": [
      "total number of mini_batches is  41\n",
      "first mini_batch shape  (10, 14)\n",
      "last mini_batch shape  (4, 14)\n"
     ]
    }
   ],
   "source": [
    "batch_size = 10\n",
    "n = len(train_data)\n",
    "mini_batches = [train_data[k:k+batch_size] for k in range(0, n, batch_size)]\n",
    "print('total number of mini_batches is ', len(mini_batches))\n",
    "print('first mini_batch shape ', mini_batches[0].shape)\n",
    "print('last mini_batch shape ', mini_batches[-1].shape)"
   ]
  },
  {
   "cell_type": "markdown",
   "metadata": {},
   "source": [
    "另外，这里是按顺序读取minibatch，而SGD里面是随机抽取一部分样本代表总体。为了实现随机抽样的效果，我们先将train_data里面的样本顺序随机打乱，然后再抽取minibatch。随机打乱样本顺序，需要用到`np.random.shuffle`函数，下面先介绍它的用法。\n",
    "\n",
    "------\n",
    "**说明：**\n",
    "\n",
    "通过大量实验发现，模型对最后出现的数据印象更加深刻。训练数据导入后，越接近模型训练结束，最后几个批次数据对模型参数的影响越大。为了避免模型记忆影响训练效果，需要进行样本乱序操作。\n",
    "\n",
    "------"
   ]
  },
  {
   "cell_type": "code",
   "execution_count": 42,
   "metadata": {
    "collapsed": false,
    "execution": {
     "iopub.execute_input": "2022-09-23T06:53:29.522046Z",
     "iopub.status.busy": "2022-09-23T06:53:29.521608Z",
     "iopub.status.idle": "2022-09-23T06:53:29.561494Z",
     "shell.execute_reply": "2022-09-23T06:53:29.560553Z",
     "shell.execute_reply.started": "2022-09-23T06:53:29.522018Z"
    },
    "jupyter": {
     "outputs_hidden": false
    },
    "scrolled": true
   },
   "outputs": [
    {
     "name": "stdout",
     "output_type": "stream",
     "text": [
      "before shuffle [ 1  2  3  4  5  6  7  8  9 10 11 12]\n",
      "after shuffle [ 7  2 11  3  8  6 12  1  4  5 10  9]\n"
     ]
    }
   ],
   "source": [
    "# 新建一个array\n",
    "a = np.array([1,2,3,4,5,6,7,8,9,10,11,12])\n",
    "print('before shuffle', a)\n",
    "np.random.shuffle(a)\n",
    "print('after shuffle', a)"
   ]
  },
  {
   "cell_type": "markdown",
   "metadata": {},
   "source": [
    "多次运行上面的代码，可以发现每次执行`shuffle`函数后的数字顺序均不同。上面举的是一个1维数组乱序的案例，我们再观察下2维数组乱序后的效果。"
   ]
  },
  {
   "cell_type": "code",
   "execution_count": 43,
   "metadata": {
    "collapsed": false,
    "execution": {
     "iopub.execute_input": "2022-09-23T06:53:29.563272Z",
     "iopub.status.busy": "2022-09-23T06:53:29.562904Z",
     "iopub.status.idle": "2022-09-23T06:53:29.569634Z",
     "shell.execute_reply": "2022-09-23T06:53:29.568715Z",
     "shell.execute_reply.started": "2022-09-23T06:53:29.563247Z"
    },
    "jupyter": {
     "outputs_hidden": false
    },
    "scrolled": true
   },
   "outputs": [
    {
     "name": "stdout",
     "output_type": "stream",
     "text": [
      "before shuffle\n",
      " [[ 1  2]\n",
      " [ 3  4]\n",
      " [ 5  6]\n",
      " [ 7  8]\n",
      " [ 9 10]\n",
      " [11 12]]\n",
      "after shuffle\n",
      " [[ 1  2]\n",
      " [ 3  4]\n",
      " [ 5  6]\n",
      " [ 9 10]\n",
      " [11 12]\n",
      " [ 7  8]]\n"
     ]
    }
   ],
   "source": [
    "# 新建一个array\n",
    "a = np.array([1,2,3,4,5,6,7,8,9,10,11,12])\n",
    "a = a.reshape([6, 2])\n",
    "print('before shuffle\\n', a)\n",
    "np.random.shuffle(a)\n",
    "print('after shuffle\\n', a)"
   ]
  },
  {
   "cell_type": "markdown",
   "metadata": {},
   "source": [
    "观察运行结果可发现，数组的元素在第0维被随机打乱，但第1维的顺序保持不变。例如数字2仍然紧挨在数字1的后面，数字8仍然紧挨在数字7的后面，而第二维的[3, 4]并不排在[1, 2]的后面。将这部分实现SGD算法的代码集成到Network类中的`train`函数中，最终的完整代码如下。"
   ]
  },
  {
   "cell_type": "code",
   "execution_count": 44,
   "metadata": {
    "collapsed": false,
    "execution": {
     "iopub.execute_input": "2022-09-23T06:53:29.571180Z",
     "iopub.status.busy": "2022-09-23T06:53:29.570933Z",
     "iopub.status.idle": "2022-09-23T06:53:29.584478Z",
     "shell.execute_reply": "2022-09-23T06:53:29.583523Z",
     "shell.execute_reply.started": "2022-09-23T06:53:29.571156Z"
    },
    "jupyter": {
     "outputs_hidden": false
    },
    "scrolled": true
   },
   "outputs": [],
   "source": [
    "# 获取数据\n",
    "train_data, test_data = load_data()\n",
    "\n",
    "# 打乱样本顺序\n",
    "np.random.shuffle(train_data)\n",
    "\n",
    "# 将train_data分成多个minibatch\n",
    "batch_size = 10\n",
    "n = len(train_data)\n",
    "mini_batches = [train_data[k:k+batch_size] for k in range(0, n, batch_size)]\n",
    "\n",
    "# 创建网络\n",
    "net = Network(13)\n",
    "\n",
    "# 依次使用每个mini_batch的数据\n",
    "for mini_batch in mini_batches:\n",
    "    x = mini_batch[:, :-1]\n",
    "    y = mini_batch[:, -1:]\n",
    "    loss = net.train(x, y, iterations=1)"
   ]
  },
  {
   "cell_type": "markdown",
   "metadata": {},
   "source": [
    "2）训练过程代码修改。将每个随机抽取的minibatch数据输入到模型中用于参数训练。训练过程的核心是两层循环：\n",
    "\n",
    "* 第一层循环，代表样本集合要被训练遍历几次，称为“epoch”，代码如下：\n",
    "\n",
    "`for epoch_id in range(num_epochs):`\n",
    "\n",
    "* 第二层循环，代表每次遍历时，样本集合被拆分成的多个批次，需要全部执行训练，称为“iter (iteration)”，代码如下：\n",
    "\n",
    "`for iter_id,mini_batch in emumerate(mini_batches):`\n",
    "\n",
    "在两层循环的内部是经典的四步训练流程：前向计算->计算损失->计算梯度->更新参数，这与大家之前所学是一致的，代码如下：\n",
    "\n",
    "                x = mini_batch[:, :-1]\n",
    "                y = mini_batch[:, -1:]\n",
    "                a = self.forward(x)  #前向计算\n",
    "                loss = self.loss(a, y)  #计算损失\n",
    "                gradient_w, gradient_b = self.gradient(x, y)  #计算梯度\n",
    "                self.update(gradient_w, gradient_b, eta)  #更新参数\n",
    "\n",
    "\n",
    "将两部分改写的代码集成到Network类中的`train`函数中，最终的实现如下。"
   ]
  },
  {
   "cell_type": "code",
   "execution_count": 45,
   "metadata": {
    "collapsed": false,
    "execution": {
     "iopub.execute_input": "2022-09-23T06:53:29.586209Z",
     "iopub.status.busy": "2022-09-23T06:53:29.585843Z",
     "iopub.status.idle": "2022-09-23T06:53:29.889147Z",
     "shell.execute_reply": "2022-09-23T06:53:29.887954Z",
     "shell.execute_reply.started": "2022-09-23T06:53:29.586181Z"
    },
    "jupyter": {
     "outputs_hidden": false
    },
    "scrolled": true
   },
   "outputs": [
    {
     "name": "stdout",
     "output_type": "stream",
     "text": [
      "Epoch   0 / iter   0, loss = 1.0281\n",
      "Epoch   0 / iter   1, loss = 0.5048\n",
      "Epoch   0 / iter   2, loss = 0.6382\n",
      "Epoch   0 / iter   3, loss = 0.5168\n",
      "Epoch   0 / iter   4, loss = 0.1951\n",
      "Epoch   1 / iter   0, loss = 0.6281\n",
      "Epoch   1 / iter   1, loss = 0.4611\n",
      "Epoch   1 / iter   2, loss = 0.4520\n",
      "Epoch   1 / iter   3, loss = 0.3961\n",
      "Epoch   1 / iter   4, loss = 0.1381\n",
      "Epoch   2 / iter   0, loss = 0.5642\n",
      "Epoch   2 / iter   1, loss = 0.4250\n",
      "Epoch   2 / iter   2, loss = 0.4480\n",
      "Epoch   2 / iter   3, loss = 0.3881\n",
      "Epoch   2 / iter   4, loss = 0.1884\n",
      "Epoch   3 / iter   0, loss = 0.3921\n",
      "Epoch   3 / iter   1, loss = 0.5582\n",
      "Epoch   3 / iter   2, loss = 0.3759\n",
      "Epoch   3 / iter   3, loss = 0.3849\n",
      "Epoch   3 / iter   4, loss = 0.1425\n",
      "Epoch   4 / iter   0, loss = 0.3821\n",
      "Epoch   4 / iter   1, loss = 0.4382\n",
      "Epoch   4 / iter   2, loss = 0.3864\n",
      "Epoch   4 / iter   3, loss = 0.4314\n",
      "Epoch   4 / iter   4, loss = 0.0471\n",
      "Epoch   5 / iter   0, loss = 0.4264\n",
      "Epoch   5 / iter   1, loss = 0.3829\n",
      "Epoch   5 / iter   2, loss = 0.3179\n",
      "Epoch   5 / iter   3, loss = 0.4149\n",
      "Epoch   5 / iter   4, loss = 0.1581\n",
      "Epoch   6 / iter   0, loss = 0.3148\n",
      "Epoch   6 / iter   1, loss = 0.3532\n",
      "Epoch   6 / iter   2, loss = 0.4195\n",
      "Epoch   6 / iter   3, loss = 0.3272\n",
      "Epoch   6 / iter   4, loss = 1.2465\n",
      "Epoch   7 / iter   0, loss = 0.3166\n",
      "Epoch   7 / iter   1, loss = 0.2810\n",
      "Epoch   7 / iter   2, loss = 0.4126\n",
      "Epoch   7 / iter   3, loss = 0.3309\n",
      "Epoch   7 / iter   4, loss = 0.2255\n",
      "Epoch   8 / iter   0, loss = 0.2555\n",
      "Epoch   8 / iter   1, loss = 0.3678\n",
      "Epoch   8 / iter   2, loss = 0.3342\n",
      "Epoch   8 / iter   3, loss = 0.3806\n",
      "Epoch   8 / iter   4, loss = 0.0570\n",
      "Epoch   9 / iter   0, loss = 0.3532\n",
      "Epoch   9 / iter   1, loss = 0.3973\n",
      "Epoch   9 / iter   2, loss = 0.1945\n",
      "Epoch   9 / iter   3, loss = 0.2839\n",
      "Epoch   9 / iter   4, loss = 0.1604\n",
      "Epoch  10 / iter   0, loss = 0.3414\n",
      "Epoch  10 / iter   1, loss = 0.2774\n",
      "Epoch  10 / iter   2, loss = 0.3439\n",
      "Epoch  10 / iter   3, loss = 0.2103\n",
      "Epoch  10 / iter   4, loss = 0.0959\n",
      "Epoch  11 / iter   0, loss = 0.3004\n",
      "Epoch  11 / iter   1, loss = 0.2497\n",
      "Epoch  11 / iter   2, loss = 0.2827\n",
      "Epoch  11 / iter   3, loss = 0.2987\n",
      "Epoch  11 / iter   4, loss = 0.0316\n",
      "Epoch  12 / iter   0, loss = 0.2509\n",
      "Epoch  12 / iter   1, loss = 0.2535\n",
      "Epoch  12 / iter   2, loss = 0.2944\n",
      "Epoch  12 / iter   3, loss = 0.2889\n",
      "Epoch  12 / iter   4, loss = 0.0547\n",
      "Epoch  13 / iter   0, loss = 0.2792\n",
      "Epoch  13 / iter   1, loss = 0.2137\n",
      "Epoch  13 / iter   2, loss = 0.2427\n",
      "Epoch  13 / iter   3, loss = 0.2986\n",
      "Epoch  13 / iter   4, loss = 0.3861\n",
      "Epoch  14 / iter   0, loss = 0.3261\n",
      "Epoch  14 / iter   1, loss = 0.2123\n",
      "Epoch  14 / iter   2, loss = 0.1837\n",
      "Epoch  14 / iter   3, loss = 0.2968\n",
      "Epoch  14 / iter   4, loss = 0.0620\n",
      "Epoch  15 / iter   0, loss = 0.2402\n",
      "Epoch  15 / iter   1, loss = 0.2823\n",
      "Epoch  15 / iter   2, loss = 0.2574\n",
      "Epoch  15 / iter   3, loss = 0.1833\n",
      "Epoch  15 / iter   4, loss = 0.0637\n",
      "Epoch  16 / iter   0, loss = 0.1889\n",
      "Epoch  16 / iter   1, loss = 0.1998\n",
      "Epoch  16 / iter   2, loss = 0.2031\n",
      "Epoch  16 / iter   3, loss = 0.3219\n",
      "Epoch  16 / iter   4, loss = 0.1373\n",
      "Epoch  17 / iter   0, loss = 0.2042\n",
      "Epoch  17 / iter   1, loss = 0.2070\n",
      "Epoch  17 / iter   2, loss = 0.2651\n",
      "Epoch  17 / iter   3, loss = 0.2137\n",
      "Epoch  17 / iter   4, loss = 0.0138\n",
      "Epoch  18 / iter   0, loss = 0.1794\n",
      "Epoch  18 / iter   1, loss = 0.1575\n",
      "Epoch  18 / iter   2, loss = 0.2554\n",
      "Epoch  18 / iter   3, loss = 0.2531\n",
      "Epoch  18 / iter   4, loss = 0.2192\n",
      "Epoch  19 / iter   0, loss = 0.1779\n",
      "Epoch  19 / iter   1, loss = 0.2072\n",
      "Epoch  19 / iter   2, loss = 0.2140\n",
      "Epoch  19 / iter   3, loss = 0.2513\n",
      "Epoch  19 / iter   4, loss = 0.0673\n",
      "Epoch  20 / iter   0, loss = 0.1634\n",
      "Epoch  20 / iter   1, loss = 0.1887\n",
      "Epoch  20 / iter   2, loss = 0.2515\n",
      "Epoch  20 / iter   3, loss = 0.1924\n",
      "Epoch  20 / iter   4, loss = 0.0926\n",
      "Epoch  21 / iter   0, loss = 0.1583\n",
      "Epoch  21 / iter   1, loss = 0.2319\n",
      "Epoch  21 / iter   2, loss = 0.1550\n",
      "Epoch  21 / iter   3, loss = 0.2092\n",
      "Epoch  21 / iter   4, loss = 0.1959\n",
      "Epoch  22 / iter   0, loss = 0.2414\n",
      "Epoch  22 / iter   1, loss = 0.1522\n",
      "Epoch  22 / iter   2, loss = 0.1719\n",
      "Epoch  22 / iter   3, loss = 0.1829\n",
      "Epoch  22 / iter   4, loss = 0.2748\n",
      "Epoch  23 / iter   0, loss = 0.1861\n",
      "Epoch  23 / iter   1, loss = 0.1830\n",
      "Epoch  23 / iter   2, loss = 0.1606\n",
      "Epoch  23 / iter   3, loss = 0.2351\n",
      "Epoch  23 / iter   4, loss = 0.1479\n",
      "Epoch  24 / iter   0, loss = 0.1678\n",
      "Epoch  24 / iter   1, loss = 0.2080\n",
      "Epoch  24 / iter   2, loss = 0.1471\n",
      "Epoch  24 / iter   3, loss = 0.1747\n",
      "Epoch  24 / iter   4, loss = 0.1607\n",
      "Epoch  25 / iter   0, loss = 0.1162\n",
      "Epoch  25 / iter   1, loss = 0.2067\n",
      "Epoch  25 / iter   2, loss = 0.1692\n",
      "Epoch  25 / iter   3, loss = 0.1757\n",
      "Epoch  25 / iter   4, loss = 0.0125\n",
      "Epoch  26 / iter   0, loss = 0.1707\n",
      "Epoch  26 / iter   1, loss = 0.1898\n",
      "Epoch  26 / iter   2, loss = 0.1409\n",
      "Epoch  26 / iter   3, loss = 0.1501\n",
      "Epoch  26 / iter   4, loss = 0.1002\n",
      "Epoch  27 / iter   0, loss = 0.1590\n",
      "Epoch  27 / iter   1, loss = 0.1801\n",
      "Epoch  27 / iter   2, loss = 0.1578\n",
      "Epoch  27 / iter   3, loss = 0.1257\n",
      "Epoch  27 / iter   4, loss = 0.7750\n",
      "Epoch  28 / iter   0, loss = 0.1573\n",
      "Epoch  28 / iter   1, loss = 0.1224\n",
      "Epoch  28 / iter   2, loss = 0.1353\n",
      "Epoch  28 / iter   3, loss = 0.1862\n",
      "Epoch  28 / iter   4, loss = 0.5305\n",
      "Epoch  29 / iter   0, loss = 0.1981\n",
      "Epoch  29 / iter   1, loss = 0.1114\n",
      "Epoch  29 / iter   2, loss = 0.1414\n",
      "Epoch  29 / iter   3, loss = 0.1856\n",
      "Epoch  29 / iter   4, loss = 0.0268\n",
      "Epoch  30 / iter   0, loss = 0.0984\n",
      "Epoch  30 / iter   1, loss = 0.1528\n",
      "Epoch  30 / iter   2, loss = 0.1637\n",
      "Epoch  30 / iter   3, loss = 0.1532\n",
      "Epoch  30 / iter   4, loss = 0.0846\n",
      "Epoch  31 / iter   0, loss = 0.1433\n",
      "Epoch  31 / iter   1, loss = 0.1643\n",
      "Epoch  31 / iter   2, loss = 0.1202\n",
      "Epoch  31 / iter   3, loss = 0.1215\n",
      "Epoch  31 / iter   4, loss = 0.2182\n",
      "Epoch  32 / iter   0, loss = 0.1567\n",
      "Epoch  32 / iter   1, loss = 0.1420\n",
      "Epoch  32 / iter   2, loss = 0.1073\n",
      "Epoch  32 / iter   3, loss = 0.1496\n",
      "Epoch  32 / iter   4, loss = 0.0846\n",
      "Epoch  33 / iter   0, loss = 0.1420\n",
      "Epoch  33 / iter   1, loss = 0.1369\n",
      "Epoch  33 / iter   2, loss = 0.0962\n",
      "Epoch  33 / iter   3, loss = 0.1480\n",
      "Epoch  33 / iter   4, loss = 0.0687\n",
      "Epoch  34 / iter   0, loss = 0.1234\n",
      "Epoch  34 / iter   1, loss = 0.1028\n",
      "Epoch  34 / iter   2, loss = 0.1407\n",
      "Epoch  34 / iter   3, loss = 0.1528\n",
      "Epoch  34 / iter   4, loss = 0.0390\n",
      "Epoch  35 / iter   0, loss = 0.1113\n",
      "Epoch  35 / iter   1, loss = 0.1289\n",
      "Epoch  35 / iter   2, loss = 0.1733\n",
      "Epoch  35 / iter   3, loss = 0.0892\n",
      "Epoch  35 / iter   4, loss = 0.0456\n",
      "Epoch  36 / iter   0, loss = 0.1358\n",
      "Epoch  36 / iter   1, loss = 0.0782\n",
      "Epoch  36 / iter   2, loss = 0.1475\n",
      "Epoch  36 / iter   3, loss = 0.1294\n",
      "Epoch  36 / iter   4, loss = 0.0442\n",
      "Epoch  37 / iter   0, loss = 0.1136\n",
      "Epoch  37 / iter   1, loss = 0.0954\n",
      "Epoch  37 / iter   2, loss = 0.1542\n",
      "Epoch  37 / iter   3, loss = 0.1262\n",
      "Epoch  37 / iter   4, loss = 0.0452\n",
      "Epoch  38 / iter   0, loss = 0.1277\n",
      "Epoch  38 / iter   1, loss = 0.1361\n",
      "Epoch  38 / iter   2, loss = 0.1103\n",
      "Epoch  38 / iter   3, loss = 0.0920\n",
      "Epoch  38 / iter   4, loss = 0.4119\n",
      "Epoch  39 / iter   0, loss = 0.1054\n",
      "Epoch  39 / iter   1, loss = 0.1165\n",
      "Epoch  39 / iter   2, loss = 0.1334\n",
      "Epoch  39 / iter   3, loss = 0.1240\n",
      "Epoch  39 / iter   4, loss = 0.0672\n",
      "Epoch  40 / iter   0, loss = 0.1218\n",
      "Epoch  40 / iter   1, loss = 0.0982\n",
      "Epoch  40 / iter   2, loss = 0.1077\n",
      "Epoch  40 / iter   3, loss = 0.1062\n",
      "Epoch  40 / iter   4, loss = 0.4781\n",
      "Epoch  41 / iter   0, loss = 0.1541\n",
      "Epoch  41 / iter   1, loss = 0.1049\n",
      "Epoch  41 / iter   2, loss = 0.0979\n",
      "Epoch  41 / iter   3, loss = 0.1042\n",
      "Epoch  41 / iter   4, loss = 0.0397\n",
      "Epoch  42 / iter   0, loss = 0.0996\n",
      "Epoch  42 / iter   1, loss = 0.1031\n",
      "Epoch  42 / iter   2, loss = 0.1294\n",
      "Epoch  42 / iter   3, loss = 0.0980\n",
      "Epoch  42 / iter   4, loss = 0.1135\n",
      "Epoch  43 / iter   0, loss = 0.1521\n",
      "Epoch  43 / iter   1, loss = 0.1088\n",
      "Epoch  43 / iter   2, loss = 0.1089\n",
      "Epoch  43 / iter   3, loss = 0.0775\n",
      "Epoch  43 / iter   4, loss = 0.1444\n",
      "Epoch  44 / iter   0, loss = 0.0827\n",
      "Epoch  44 / iter   1, loss = 0.0875\n",
      "Epoch  44 / iter   2, loss = 0.1428\n",
      "Epoch  44 / iter   3, loss = 0.1002\n",
      "Epoch  44 / iter   4, loss = 0.0352\n",
      "Epoch  45 / iter   0, loss = 0.0917\n",
      "Epoch  45 / iter   1, loss = 0.1193\n",
      "Epoch  45 / iter   2, loss = 0.0933\n",
      "Epoch  45 / iter   3, loss = 0.1044\n",
      "Epoch  45 / iter   4, loss = 0.0064\n",
      "Epoch  46 / iter   0, loss = 0.1020\n",
      "Epoch  46 / iter   1, loss = 0.0913\n",
      "Epoch  46 / iter   2, loss = 0.0882\n",
      "Epoch  46 / iter   3, loss = 0.1170\n",
      "Epoch  46 / iter   4, loss = 0.0330\n",
      "Epoch  47 / iter   0, loss = 0.0696\n",
      "Epoch  47 / iter   1, loss = 0.0996\n",
      "Epoch  47 / iter   2, loss = 0.0948\n",
      "Epoch  47 / iter   3, loss = 0.1109\n",
      "Epoch  47 / iter   4, loss = 0.5095\n",
      "Epoch  48 / iter   0, loss = 0.0929\n",
      "Epoch  48 / iter   1, loss = 0.1220\n",
      "Epoch  48 / iter   2, loss = 0.1150\n",
      "Epoch  48 / iter   3, loss = 0.0917\n",
      "Epoch  48 / iter   4, loss = 0.0968\n",
      "Epoch  49 / iter   0, loss = 0.0732\n",
      "Epoch  49 / iter   1, loss = 0.0808\n",
      "Epoch  49 / iter   2, loss = 0.0896\n",
      "Epoch  49 / iter   3, loss = 0.1306\n",
      "Epoch  49 / iter   4, loss = 0.1896\n"
     ]
    },
    {
     "data": {
      "image/png": "[encoded data removed]",
      "text/plain": [
       "<Figure size 640x480 with 1 Axes>"
      ]
     },
     "metadata": {},
     "output_type": "display_data"
    }
   ],
   "source": [
    "import numpy as np\n",
    "\n",
    "class Network(object):\n",
    "    def __init__(self, num_of_weights):\n",
    "        # 随机产生w的初始值\n",
    "        # 为了保持程序每次运行结果的一致性，此处设置固定的随机数种子\n",
    "        #np.random.seed(0)\n",
    "        self.w = np.random.randn(num_of_weights, 1)\n",
    "        self.b = 0.\n",
    "        \n",
    "    def forward(self, x):\n",
    "        z = np.dot(x, self.w) + self.b\n",
    "        return z\n",
    "    \n",
    "    def loss(self, z, y):\n",
    "        error = z - y\n",
    "        num_samples = error.shape[0]\n",
    "        cost = error * error\n",
    "        cost = np.sum(cost) / num_samples\n",
    "        return cost\n",
    "    \n",
    "    def gradient(self, x, y):\n",
    "        z = self.forward(x)\n",
    "        N = x.shape[0]\n",
    "        gradient_w = 1. / N * np.sum((z-y) * x, axis=0)\n",
    "        gradient_w = gradient_w[:, np.newaxis]\n",
    "        gradient_b = 1. / N * np.sum(z-y)\n",
    "        return gradient_w, gradient_b\n",
    "    \n",
    "    def update(self, gradient_w, gradient_b, eta = 0.01):\n",
    "        self.w = self.w - eta * gradient_w\n",
    "        self.b = self.b - eta * gradient_b\n",
    "            \n",
    "                \n",
    "    def train(self, training_data, num_epochs, batch_size=10, eta=0.01):\n",
    "        n = len(training_data)\n",
    "        losses = []\n",
    "        for epoch_id in range(num_epochs):\n",
    "            # 在每轮迭代开始之前，将训练数据的顺序随机打乱\n",
    "            # 然后再按每次取batch_size条数据的方式取出\n",
    "            np.random.shuffle(training_data)\n",
    "            # 将训练数据进行拆分，每个mini_batch包含batch_size条的数据\n",
    "            mini_batches = [training_data[k:k+batch_size] for k in range(0, n, batch_size)]\n",
    "            for iter_id, mini_batch in enumerate(mini_batches):\n",
    "                #print(self.w.shape)\n",
    "                #print(self.b)\n",
    "                x = mini_batch[:, :-1]\n",
    "                y = mini_batch[:, -1:]\n",
    "                a = self.forward(x)\n",
    "                loss = self.loss(a, y)\n",
    "                gradient_w, gradient_b = self.gradient(x, y)\n",
    "                self.update(gradient_w, gradient_b, eta)\n",
    "                losses.append(loss)\n",
    "                print('Epoch {:3d} / iter {:3d}, loss = {:.4f}'.\n",
    "                                 format(epoch_id, iter_id, loss))\n",
    "        \n",
    "        return losses\n",
    "\n",
    "# 获取数据\n",
    "train_data, test_data = load_data()\n",
    "\n",
    "# 创建网络\n",
    "net = Network(13)\n",
    "# 启动训练\n",
    "losses = net.train(train_data, num_epochs=50, batch_size=100, eta=0.1)\n",
    "\n",
    "# 画出损失函数的变化趋势\n",
    "plot_x = np.arange(len(losses))\n",
    "plot_y = np.array(losses)\n",
    "plt.plot(plot_x, plot_y)\n",
    "plt.show()"
   ]
  },
  {
   "cell_type": "markdown",
   "metadata": {},
   "source": [
    "观察上述损失函数的变化，随机梯度下降加快了训练过程，但由于每次仅基于少量样本更新参数和计算损失ii，所以损失下降曲线会出现震荡。\n",
    "\n",
    "------\n",
    "**说明：**\n",
    "\n",
    "由于房价预测的数据量过少，所以难以感受到随机梯度下降带来的性能提升。\n",
    "\n",
    "------"
   ]
  },
  {
   "cell_type": "markdown",
   "metadata": {},
   "source": [
    "## 总结\n",
    "\n",
    "本节我们详细介绍了如何使用Numpy实现梯度下降算法，构建并训练了一个简单的线性模型实现波士顿房价预测，可以总结出，使用神经网络建模房价预测有三个要点：\n",
    "\n",
    "* 构建网络，初始化参数$w$和$b$，定义预测和损失函数的计算方法。\n",
    "* 随机选择初始点，建立梯度的计算方法和参数更新方式。\n",
    "* 将数据集的数据按batch size的大小分成多个minibatch，分别灌入模型计算梯度并更新参数，不断迭代直到损失函数几乎不再下降。"
   ]
  },
  {
   "cell_type": "markdown",
   "metadata": {},
   "source": [
    "### 作业1-2\n",
    "\n",
    "1. 样本归一化：预测时的样本数据同样也需要归一化，但使用训练样本的均值和极值计算，这是为什么？\n",
    "\n",
    "2. 当部分参数的梯度计算为0（接近0）时，可能是什么情况？是否意味着完成训练？"
   ]
  },
  {
   "cell_type": "markdown",
   "metadata": {},
   "source": [
    "### 作业 1-3\n",
    "\n",
    "1. 随机梯度下降的batchsize设置成多少合适？过小有什么问题？过大有什么问题？提示：过大以整个样本集合为例，过小以单个样本为例来思考。\n",
    "1. 一次训练使用的配置：5个epoch，1000个样本，batchsize=20，最内层循环执行多少轮？\n"
   ]
  },
  {
   "cell_type": "markdown",
   "metadata": {},
   "source": [
    "### 作业1-4\n",
    "\n",
    "#### 基本知识\n",
    "\n",
    "**1. 求导的链式法则**\n",
    "\n",
    "链式法则是微积分中的求导法则，用于求一个复合函数的导数，是在微积分的求导运算中一种常用的方法。复合函数的导数将是构成复合这有限个函数在相应点的导数的乘积，就像锁链一样一环套一环，故称链式法则。如 **图9** 所示，如果求最终输出对内层输入（第一层）的梯度，等于外层梯度（第二层）乘以本层函数的梯度。\n",
    "<center><img src=\"https://ai-studio-static-online.cdn.bcebos.com/2beffa3f3d7c402685671b0825561a91c17216fe8b924f64b9f29a96f45cbc85\" width=\"200\" hegiht=\"\" ></center>\n",
    "<center><br>图9：求导的链式法则</br></center>\n",
    "<br></br>\n",
    "\n",
    "**2. 计算图的概念**\n",
    "\n",
    "（1）为何是反向计算梯度？即梯度是由网络后端向前端计算。当前层的梯度要依据处于网络中后一层的梯度来计算，所以只有先算后一层的梯度才能计算本层的梯度。     \n",
    "\n",
    "（2）案例：购买苹果产生消费的计算图。假设一家商店9折促销苹果，每个的单价100元。计算一个顾客总消费的结构如 **图10** 所示。\n",
    "<center><img src=\"https://ai-studio-static-online.cdn.bcebos.com/46c43ead4fa942f5be87f25538a046ff9456516816274cbcb5f6df3768c0fd34\" width=\"400\" hegiht=\"40\" ></center>\n",
    "<center><br>图10：购买苹果所产生的消费计算图</br></center>\n",
    "<br></br>\n",
    "\n",
    "*  前向计算过程：以黑色箭头表示，顾客购买了2个苹果，再加上九折的折扣，一共消费100\\*2\\*0.9=180元。\n",
    "*  后向传播过程：以红色箭头表示，根据链式法则，本层的梯度计算 * 后一层传递过来的梯度，所以需从后向前计算。\n",
    " \n",
    "最后一层的输出对自身的求导为1。导数第二层根据 **图11** 所示的乘法求导的公式，分别为0.9\\*1和200\\*1。同样的，第三层为100 * 0.9=90，2 * 0.9=1.8。\n",
    "<center><img src=\"https://ai-studio-static-online.cdn.bcebos.com/c251a2c290e946f99ce3a3381396c392b50e5a4243c346509bd91177b7f2da90\" width=\"200\"  ></center>\n",
    "<center><br>图11：乘法求导的公式</br></center>\n",
    "<br></br>\n",
    "\n",
    "#### 作业题\n",
    "\n",
    "1. 根据 **图12** 所示的乘法和加法的导数公式，完成 **图13** 购买苹果和橘子的梯度传播的题目。\n",
    "<center><img src=\"https://ai-studio-static-online.cdn.bcebos.com/4ce8715f03f9477699707056544b1e6363f78aa09fda411d972878abb6d1d26f\" width=\"300\"  ></center>\n",
    "<center><br>图12：乘法和加法的导数公式</br></center>\n",
    "<br></br>\n",
    "\n",
    "<center><img src=\"https://ai-studio-static-online.cdn.bcebos.com/2fc6665e10f34f9e863172bb399862319f0914467d72457d9e7328616bdbe6df\" width=\"500\"  ></center>\n",
    "<center><br>图13：购买苹果和橘子产生消费的计算图</br></center>\n",
    "<br></br>  \n",
    "\n",
    "2. 挑战题：用代码实现两层的神经网络的梯度传播，中间层的尺寸为13【房价预测案例】（教案当前的版本为一层的神经网络），如 **图14** 所示。\n",
    "\n",
    "<center><img src=\"https://ai-studio-static-online.cdn.bcebos.com/580f2553aa4643809006f5a8d3deb2aa8dd4e1aa69d94cf6a35ead5fe7cf469e\" width=\"300\"  ></center>\n",
    "<center><br>图14：两层的神经网络</br></center>\n",
    "<br></br>\n"
   ]
  }
 ],
 "metadata": {
  "kernelspec": {
   "display_name": "Python 3",
   "language": "python",
   "name": "py35-paddle1.2.0"
  },
  "language_info": {
   "codemirror_mode": {
    "name": "ipython",
    "version": 3
   },
   "file_extension": ".py",
   "mimetype": "text/x-python",
   "name": "python",
   "nbconvert_exporter": "python",
   "pygments_lexer": "ipython3",
   "version": "3.7.4"
  }
 },
 "nbformat": 4,
 "nbformat_minor": 4
}
